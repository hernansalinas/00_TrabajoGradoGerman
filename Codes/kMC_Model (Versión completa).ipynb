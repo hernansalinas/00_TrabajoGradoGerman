{
 "cells": [
  {
   "cell_type": "code",
   "execution_count": 1,
   "metadata": {},
   "outputs": [],
   "source": [
    "import numpy as np\n",
    "import matplotlib.pyplot as plt\n",
    "from tqdm import tqdm\n",
    "import pandas as pd\n",
    "import time\n",
    "from skopt import gp_minimize\n",
    "from skopt.space import Real, Integer\n",
    "from tqdm import tqdm\n",
    "import seaborn as sns"
   ]
  },
  {
   "cell_type": "code",
   "execution_count": null,
   "metadata": {},
   "outputs": [],
   "source": [
    "class KineticMonteCarlo:\n",
    "    def __init__(self, lattice_size, e_ads, e_int_abs, time_array, time_factor, seed=None, T = 300):\n",
    "        self.lattice_size = lattice_size\n",
    "        self.lattice = np.zeros((lattice_size, lattice_size))\n",
    "        self.T = T\n",
    "        self.e_ads = e_ads\n",
    "        self.e_int_abs = e_int_abs\n",
    "        self.k_b = 8.617e-5\n",
    "        self.h = 4.136e-15\n",
    "        self.k_0 = 5\n",
    "        self.factor = time_factor\n",
    "        self.time = time_array[0]\n",
    "        self.time_array = time_array\n",
    "        self.occupancy = {t: None for t in self.time_array}\n",
    "        self.seed = seed\n",
    "        self.rng = np.random.default_rng(self.seed)  \n",
    "\n",
    "    def pick_random_site(self):\n",
    "        i, j = self.rng.integers(0, self.lattice_size, size=2)        \n",
    "        return i, j\n",
    "\n",
    "    def count_occupied_neighbors(self, site):\n",
    "        neighbors = 0\n",
    "        i, j = site\n",
    "        for ni, nj in [(i-1, j), (i+1, j), (i, j-1), (i, j+1)]:\n",
    "            if 0 <= ni < self.lattice_size and 0 <= nj < self.lattice_size:\n",
    "                neighbors += self.lattice[ni, nj]\n",
    "        return neighbors\n",
    "\n",
    "    def activation_energies(self, site):\n",
    "        n_ij = self.count_occupied_neighbors(site)\n",
    "        ads = self.e_int_abs * n_ij + self.e_ads\n",
    "        return ads\n",
    "\n",
    "    def calculate_transition_rates(self, site):\n",
    "        E_ads= self.activation_energies(site)\n",
    "        k_ads = (self.k_0 * self.k_b * self.T) / self.h * np.exp(-E_ads / (self.k_b * self.T))\n",
    "        return k_ads\n",
    "\n",
    "    def run_simulation(self):\n",
    "\n",
    "        end_time = self.time_array[-1]\n",
    "\n",
    "        while self.time < end_time:\n",
    "\n",
    "            for t in self.time_array:\n",
    "                if self.occupancy[t] is None and self.time >= t:\n",
    "                    per_adsorption = np.sum(self.lattice == 1) / (self.lattice_size ** 2) * 100\n",
    "                    self.occupancy[t] = per_adsorption\n",
    "\n",
    "\n",
    "            site = self.pick_random_site()\n",
    "            k_ads = self.calculate_transition_rates(site)\n",
    "\n",
    "            if k_ads == 0:\n",
    "                break  # No more events possible\n",
    "            \n",
    "            delta_t = (-np.log(self.rng.random()) / k_ads)/self.factor\n",
    "            self.time += delta_t\n",
    "\n",
    "            self.lattice[site] = 1\n",
    "                \n",
    "\n",
    "\n",
    "        for t in self.time_array:\n",
    "            if self.occupancy[t] is None and self.time >= t:\n",
    "                per_adsorption = np.sum(self.lattice == 1) / (self.lattice_size ** 2) * 100\n",
    "                self.occupancy[t] = per_adsorption\n",
    "                \n",
    "        "
   ]
  },
  {
   "cell_type": "code",
   "execution_count": 3,
   "metadata": {},
   "outputs": [],
   "source": [
    "class BayesianOptimization:\n",
    "    def __init__(self, model_class, exp_data, time_array, space, n_calls, random_state=42):\n",
    "        self.model_class = model_class\n",
    "        self.exp_data = exp_data\n",
    "        self.time_array = time_array\n",
    "        self.space = space\n",
    "        self.n_calls = n_calls\n",
    "        self.random_state = random_state\n",
    "        self.best_params = None\n",
    "        self.best_error = float(\"inf\")\n",
    "        self.progress_bar = tqdm(total=n_calls, desc=\"Optimización Bayesiana en Progreso\", position=0)\n",
    "        self.start_time = None\n",
    "\n",
    "    def loss_function(self, params):\n",
    "        e_ads, e_int_abs, lattice_size = params  \n",
    "\n",
    "        kmc_model = self.model_class(\n",
    "            lattice_size=lattice_size, e_ads=e_ads, e_int_abs=e_int_abs, time_factor=1e-7,\n",
    "            time_array=self.time_array\n",
    "        )\n",
    "        kmc_model.run_simulation()\n",
    "\n",
    "        simulated_data = np.array(list(kmc_model.occupancy.values()))\n",
    "        error = np.mean((simulated_data - self.exp_data) ** 2)\n",
    "\n",
    "        if error < self.best_error:\n",
    "            self.best_error = error\n",
    "            self.best_params = params\n",
    "            print(f\"🟢 Nuevo mejor error: {self.best_error:.6f} con parámetros {self.best_params}\")\n",
    "\n",
    "        elapsed_time = time.time() - self.start_time\n",
    "        avg_time_per_iter = elapsed_time / (self.progress_bar.n + 1)\n",
    "        estimated_time_left = avg_time_per_iter * (self.n_calls - self.progress_bar.n - 1)\n",
    "\n",
    "        self.progress_bar.set_postfix({\n",
    "            \"Tiempo transcurrido\": f\"{elapsed_time:.2f} s\",\n",
    "            \"Tiempo restante\": f\"{estimated_time_left:.2f} s\",\n",
    "            \"Mejor error\": f\"{self.best_error:.6f}\"\n",
    "        })\n",
    "        \n",
    "        self.progress_bar.update(1)\n",
    "\n",
    "        return error\n",
    "\n",
    "    def optimize(self):\n",
    "        self.start_time = time.time()\n",
    "        result = gp_minimize(self.loss_function, self.space, n_calls=self.n_calls, random_state=self.random_state)\n",
    "        self.progress_bar.close()\n",
    "\n",
    "        end_time = time.time()\n",
    "        print(\"\\n✅ Optimización completada\")\n",
    "        print(\"🔹 Parámetros óptimos encontrados:\", self.best_params)\n",
    "        print(\"🔹 Error mínimo encontrado:\", self.best_error)\n",
    "        print(f\"⏳ Tiempo total de ejecución: {end_time - self.start_time:.2f} segundos\")"
   ]
  },
  {
   "cell_type": "code",
   "execution_count": 4,
   "metadata": {},
   "outputs": [
    {
     "data": {
      "text/html": [
       "<div>\n",
       "<style scoped>\n",
       "    .dataframe tbody tr th:only-of-type {\n",
       "        vertical-align: middle;\n",
       "    }\n",
       "\n",
       "    .dataframe tbody tr th {\n",
       "        vertical-align: top;\n",
       "    }\n",
       "\n",
       "    .dataframe thead th {\n",
       "        text-align: right;\n",
       "    }\n",
       "</style>\n",
       "<table border=\"1\" class=\"dataframe\">\n",
       "  <thead>\n",
       "    <tr style=\"text-align: right;\">\n",
       "      <th></th>\n",
       "      <th>T0</th>\n",
       "      <th>T1</th>\n",
       "      <th>T2</th>\n",
       "      <th>T3</th>\n",
       "      <th>T4</th>\n",
       "      <th>T5</th>\n",
       "      <th>T6</th>\n",
       "      <th>T7</th>\n",
       "      <th>T8</th>\n",
       "    </tr>\n",
       "  </thead>\n",
       "  <tbody>\n",
       "    <tr>\n",
       "      <th>0</th>\n",
       "      <td>0</td>\n",
       "      <td>7.356582</td>\n",
       "      <td>12.689700</td>\n",
       "      <td>16.639759</td>\n",
       "      <td>18.501776</td>\n",
       "      <td>20.487569</td>\n",
       "      <td>23.818749</td>\n",
       "      <td>27.994834</td>\n",
       "      <td>30.050587</td>\n",
       "    </tr>\n",
       "    <tr>\n",
       "      <th>1</th>\n",
       "      <td>0</td>\n",
       "      <td>20.779935</td>\n",
       "      <td>25.251636</td>\n",
       "      <td>27.748749</td>\n",
       "      <td>29.965348</td>\n",
       "      <td>32.368957</td>\n",
       "      <td>36.389638</td>\n",
       "      <td>43.149442</td>\n",
       "      <td>48.682691</td>\n",
       "    </tr>\n",
       "    <tr>\n",
       "      <th>2</th>\n",
       "      <td>0</td>\n",
       "      <td>17.067494</td>\n",
       "      <td>22.581181</td>\n",
       "      <td>27.208246</td>\n",
       "      <td>29.441427</td>\n",
       "      <td>31.863017</td>\n",
       "      <td>35.913776</td>\n",
       "      <td>42.724149</td>\n",
       "      <td>48.187964</td>\n",
       "    </tr>\n",
       "    <tr>\n",
       "      <th>3</th>\n",
       "      <td>0</td>\n",
       "      <td>11.453131</td>\n",
       "      <td>16.961002</td>\n",
       "      <td>22.642191</td>\n",
       "      <td>31.064719</td>\n",
       "      <td>36.995999</td>\n",
       "      <td>40.164993</td>\n",
       "      <td>40.562844</td>\n",
       "      <td>41.061651</td>\n",
       "    </tr>\n",
       "    <tr>\n",
       "      <th>4</th>\n",
       "      <td>0</td>\n",
       "      <td>6.008902</td>\n",
       "      <td>10.187933</td>\n",
       "      <td>12.134026</td>\n",
       "      <td>13.930267</td>\n",
       "      <td>15.141939</td>\n",
       "      <td>16.922354</td>\n",
       "      <td>20.326410</td>\n",
       "      <td>23.376360</td>\n",
       "    </tr>\n",
       "    <tr>\n",
       "      <th>5</th>\n",
       "      <td>0</td>\n",
       "      <td>27.241766</td>\n",
       "      <td>41.585839</td>\n",
       "      <td>46.084479</td>\n",
       "      <td>48.311079</td>\n",
       "      <td>49.992389</td>\n",
       "      <td>52.567519</td>\n",
       "      <td>55.551390</td>\n",
       "      <td>57.868871</td>\n",
       "    </tr>\n",
       "    <tr>\n",
       "      <th>6</th>\n",
       "      <td>0</td>\n",
       "      <td>34.587323</td>\n",
       "      <td>41.906065</td>\n",
       "      <td>44.300046</td>\n",
       "      <td>46.055632</td>\n",
       "      <td>46.967624</td>\n",
       "      <td>48.723210</td>\n",
       "      <td>51.983584</td>\n",
       "      <td>54.331965</td>\n",
       "    </tr>\n",
       "    <tr>\n",
       "      <th>7</th>\n",
       "      <td>0</td>\n",
       "      <td>29.154068</td>\n",
       "      <td>36.910247</td>\n",
       "      <td>42.092633</td>\n",
       "      <td>43.724502</td>\n",
       "      <td>44.948404</td>\n",
       "      <td>50.227982</td>\n",
       "      <td>62.491001</td>\n",
       "      <td>64.050876</td>\n",
       "    </tr>\n",
       "    <tr>\n",
       "      <th>8</th>\n",
       "      <td>0</td>\n",
       "      <td>21.817095</td>\n",
       "      <td>29.432051</td>\n",
       "      <td>34.577737</td>\n",
       "      <td>37.286592</td>\n",
       "      <td>39.562941</td>\n",
       "      <td>43.523788</td>\n",
       "      <td>51.331664</td>\n",
       "      <td>56.111996</td>\n",
       "    </tr>\n",
       "    <tr>\n",
       "      <th>9</th>\n",
       "      <td>0</td>\n",
       "      <td>12.184766</td>\n",
       "      <td>16.710792</td>\n",
       "      <td>20.125645</td>\n",
       "      <td>22.100067</td>\n",
       "      <td>23.401391</td>\n",
       "      <td>26.923940</td>\n",
       "      <td>33.789545</td>\n",
       "      <td>37.715952</td>\n",
       "    </tr>\n",
       "    <tr>\n",
       "      <th>10</th>\n",
       "      <td>0</td>\n",
       "      <td>18.821420</td>\n",
       "      <td>24.660240</td>\n",
       "      <td>29.108864</td>\n",
       "      <td>30.966377</td>\n",
       "      <td>32.988479</td>\n",
       "      <td>36.750529</td>\n",
       "      <td>43.804373</td>\n",
       "      <td>48.765577</td>\n",
       "    </tr>\n",
       "    <tr>\n",
       "      <th>11</th>\n",
       "      <td>0</td>\n",
       "      <td>20.982483</td>\n",
       "      <td>26.783842</td>\n",
       "      <td>32.006673</td>\n",
       "      <td>34.747378</td>\n",
       "      <td>37.178265</td>\n",
       "      <td>41.968541</td>\n",
       "      <td>50.000000</td>\n",
       "      <td>55.219256</td>\n",
       "    </tr>\n",
       "  </tbody>\n",
       "</table>\n",
       "</div>"
      ],
      "text/plain": [
       "    T0         T1         T2         T3         T4         T5        T6   \\\n",
       "0    0   7.356582  12.689700  16.639759  18.501776  20.487569  23.818749   \n",
       "1    0  20.779935  25.251636  27.748749  29.965348  32.368957  36.389638   \n",
       "2    0  17.067494  22.581181  27.208246  29.441427  31.863017  35.913776   \n",
       "3    0  11.453131  16.961002  22.642191  31.064719  36.995999  40.164993   \n",
       "4    0   6.008902  10.187933  12.134026  13.930267  15.141939  16.922354   \n",
       "5    0  27.241766  41.585839  46.084479  48.311079  49.992389  52.567519   \n",
       "6    0  34.587323  41.906065  44.300046  46.055632  46.967624  48.723210   \n",
       "7    0  29.154068  36.910247  42.092633  43.724502  44.948404  50.227982   \n",
       "8    0  21.817095  29.432051  34.577737  37.286592  39.562941  43.523788   \n",
       "9    0  12.184766  16.710792  20.125645  22.100067  23.401391  26.923940   \n",
       "10   0  18.821420  24.660240  29.108864  30.966377  32.988479  36.750529   \n",
       "11   0  20.982483  26.783842  32.006673  34.747378  37.178265  41.968541   \n",
       "\n",
       "          T7          T8  \n",
       "0   27.994834  30.050587  \n",
       "1   43.149442  48.682691  \n",
       "2   42.724149  48.187964  \n",
       "3   40.562844  41.061651  \n",
       "4   20.326410  23.376360  \n",
       "5   55.551390  57.868871  \n",
       "6   51.983584  54.331965  \n",
       "7   62.491001  64.050876  \n",
       "8   51.331664  56.111996  \n",
       "9   33.789545  37.715952  \n",
       "10  43.804373  48.765577  \n",
       "11  50.000000  55.219256  "
      ]
     },
     "execution_count": 4,
     "metadata": {},
     "output_type": "execute_result"
    }
   ],
   "source": [
    "data = pd.read_csv('Datos recogidos.csv')\n",
    "t = np.array([1,3,6,9,12,20,40,60])\n",
    "\n",
    "for col in data.columns:\n",
    "    data[col] = pd.to_numeric(data[col], errors='coerce')\n",
    "\n",
    "data.dropna(inplace=True)\n",
    "data.iloc[3] = data.iloc[3] * 10\n",
    "data.reset_index(drop=True, inplace=True)\n",
    "data.insert(0, 'T0', 0)\n",
    "\n",
    "data"
   ]
  },
  {
   "cell_type": "code",
   "execution_count": 6,
   "metadata": {},
   "outputs": [
    {
     "name": "stderr",
     "output_type": "stream",
     "text": [
      "Optimización Bayesiana en Progreso:   4%|▍         | 9/200 [00:00<00:01, 103.25it/s, Tiempo transcurrido=0.09 s, Tiempo restante=1.66 s, Mejor error=555.575354]"
     ]
    },
    {
     "name": "stdout",
     "output_type": "stream",
     "text": [
      "🟢 Nuevo mejor error: 1310.793087 con parámetros [0.3186171947440932, 0.07337391594646553, np.int64(91)]\n",
      "🟢 Nuevo mejor error: 1106.711440 con parámetros [0.18369955678634692, 0.13348344445560875, np.int64(66)]\n",
      "🟢 Nuevo mejor error: 555.575354 con parámetros [0.2603553891795412, 0.02256463161084011, np.int64(89)]\n"
     ]
    },
    {
     "name": "stderr",
     "output_type": "stream",
     "text": [
      "Optimización Bayesiana en Progreso:   6%|▌         | 11/200 [00:00<00:06, 28.79it/s, Tiempo transcurrido=0.38 s, Tiempo restante=6.55 s, Mejor error=152.942778]"
     ]
    },
    {
     "name": "stdout",
     "output_type": "stream",
     "text": [
      "🟢 Nuevo mejor error: 152.942778 con parámetros [0.23626065356038342, 0.011273901599606291, np.int64(91)]\n"
     ]
    },
    {
     "name": "stderr",
     "output_type": "stream",
     "text": [
      "Optimización Bayesiana en Progreso:  14%|█▍        | 28/200 [00:08<01:07,  2.56it/s, Tiempo transcurrido=8.16 s, Tiempo restante=50.12 s, Mejor error=144.224555]"
     ]
    },
    {
     "name": "stdout",
     "output_type": "stream",
     "text": [
      "🟢 Nuevo mejor error: 144.224555 con parámetros [0.23507320352995614, 0.012191126359346313, np.int64(90)]\n"
     ]
    },
    {
     "name": "stderr",
     "output_type": "stream",
     "text": [
      "Optimización Bayesiana en Progreso:  14%|█▍        | 29/200 [00:08<01:04,  2.63it/s, Tiempo transcurrido=8.51 s, Tiempo restante=50.21 s, Mejor error=136.433554]"
     ]
    },
    {
     "name": "stdout",
     "output_type": "stream",
     "text": [
      "🟢 Nuevo mejor error: 136.433554 con parámetros [0.2340639500959851, 0.012887487003786752, np.int64(89)]\n"
     ]
    },
    {
     "name": "stderr",
     "output_type": "stream",
     "text": [
      "Optimización Bayesiana en Progreso:  15%|█▌        | 30/200 [00:08<01:02,  2.71it/s, Tiempo transcurrido=8.86 s, Tiempo restante=50.20 s, Mejor error=129.283057]"
     ]
    },
    {
     "name": "stdout",
     "output_type": "stream",
     "text": [
      "🟢 Nuevo mejor error: 129.283057 con parámetros [0.23311692386614477, 0.013658089729061507, np.int64(88)]\n"
     ]
    },
    {
     "name": "stderr",
     "output_type": "stream",
     "text": [
      "Optimización Bayesiana en Progreso:  16%|█▌        | 31/200 [00:09<01:01,  2.73it/s, Tiempo transcurrido=9.22 s, Tiempo restante=50.25 s, Mejor error=119.086647]"
     ]
    },
    {
     "name": "stdout",
     "output_type": "stream",
     "text": [
      "🟢 Nuevo mejor error: 119.086647 con parámetros [0.2320913068525426, 0.014586876199637874, np.int64(87)]\n"
     ]
    },
    {
     "name": "stderr",
     "output_type": "stream",
     "text": [
      "Optimización Bayesiana en Progreso:  16%|█▋        | 33/200 [00:09<01:00,  2.74it/s, Tiempo transcurrido=9.94 s, Tiempo restante=50.31 s, Mejor error=111.784289]"
     ]
    },
    {
     "name": "stdout",
     "output_type": "stream",
     "text": [
      "🟢 Nuevo mejor error: 111.784289 con parámetros [0.2307425069135313, 0.015813230271966985, np.int64(86)]\n"
     ]
    },
    {
     "name": "stderr",
     "output_type": "stream",
     "text": [
      "Optimización Bayesiana en Progreso:  17%|█▋        | 34/200 [00:10<01:01,  2.72it/s, Tiempo transcurrido=10.32 s, Tiempo restante=50.37 s, Mejor error=101.498924]"
     ]
    },
    {
     "name": "stdout",
     "output_type": "stream",
     "text": [
      "🟢 Nuevo mejor error: 101.498924 con parámetros [0.22933997362917183, 0.016883511961742932, np.int64(86)]\n"
     ]
    },
    {
     "name": "stderr",
     "output_type": "stream",
     "text": [
      "Optimización Bayesiana en Progreso:  21%|██        | 42/200 [00:13<01:05,  2.41it/s, Tiempo transcurrido=13.06 s, Tiempo restante=49.13 s, Mejor error=11.521828] "
     ]
    },
    {
     "name": "stdout",
     "output_type": "stream",
     "text": [
      "🟢 Nuevo mejor error: 11.521828 con parámetros [0.18595473740134622, 0.0406217215468388, np.int64(60)]\n"
     ]
    },
    {
     "name": "stderr",
     "output_type": "stream",
     "text": [
      "Optimización Bayesiana en Progreso:  22%|██▏       | 44/200 [00:13<01:07,  2.32it/s, Tiempo transcurrido=13.95 s, Tiempo restante=49.45 s, Mejor error=7.012966] "
     ]
    },
    {
     "name": "stdout",
     "output_type": "stream",
     "text": [
      "🟢 Nuevo mejor error: 7.012966 con parámetros [0.1875592499756107, 0.041332111177069523, np.int64(60)]\n"
     ]
    },
    {
     "name": "stderr",
     "output_type": "stream",
     "text": [
      "Optimización Bayesiana en Progreso:  22%|██▎       | 45/200 [00:14<01:06,  2.33it/s, Tiempo transcurrido=14.37 s, Tiempo restante=49.49 s, Mejor error=5.643380]"
     ]
    },
    {
     "name": "stdout",
     "output_type": "stream",
     "text": [
      "🟢 Nuevo mejor error: 5.643380 con parámetros [0.18837074019456043, 0.04166391130299227, np.int64(60)]\n"
     ]
    },
    {
     "name": "stderr",
     "output_type": "stream",
     "text": [
      "Optimización Bayesiana en Progreso:  33%|███▎      | 66/200 [00:22<01:00,  2.20it/s, Tiempo transcurrido=22.74 s, Tiempo restante=46.17 s, Mejor error=4.289250]"
     ]
    },
    {
     "name": "stdout",
     "output_type": "stream",
     "text": [
      "🟢 Nuevo mejor error: 4.289250 con parámetros [0.17355661405244943, 0.045609497406233844, np.int64(67)]\n"
     ]
    },
    {
     "name": "stderr",
     "output_type": "stream",
     "text": [
      "Optimización Bayesiana en Progreso:  34%|███▎      | 67/200 [00:23<01:01,  2.17it/s, Tiempo transcurrido=23.22 s, Tiempo restante=46.10 s, Mejor error=3.247021]"
     ]
    },
    {
     "name": "stdout",
     "output_type": "stream",
     "text": [
      "🟢 Nuevo mejor error: 3.247021 con parámetros [0.17262146086329055, 0.046111760344731724, np.int64(66)]\n"
     ]
    },
    {
     "name": "stderr",
     "output_type": "stream",
     "text": [
      "Optimización Bayesiana en Progreso:  38%|███▊      | 75/200 [00:27<01:07,  1.86it/s, Tiempo transcurrido=27.43 s, Tiempo restante=45.71 s, Mejor error=2.343924]"
     ]
    },
    {
     "name": "stdout",
     "output_type": "stream",
     "text": [
      "🟢 Nuevo mejor error: 2.343924 con parámetros [0.1566354189954522, 0.052953402313373636, np.int64(60)]\n"
     ]
    },
    {
     "name": "stderr",
     "output_type": "stream",
     "text": [
      "Optimización Bayesiana en Progreso:  44%|████▍     | 89/200 [00:35<01:12,  1.53it/s, Tiempo transcurrido=35.69 s, Tiempo restante=44.51 s, Mejor error=2.175873]"
     ]
    },
    {
     "name": "stdout",
     "output_type": "stream",
     "text": [
      "🟢 Nuevo mejor error: 2.175873 con parámetros [0.15185589315045367, 0.054730016638796855, np.int64(60)]\n"
     ]
    },
    {
     "name": "stderr",
     "output_type": "stream",
     "text": [
      "Optimización Bayesiana en Progreso:  50%|████▉     | 99/200 [00:43<01:22,  1.23it/s, Tiempo transcurrido=43.39 s, Tiempo restante=44.27 s, Mejor error=1.981614]"
     ]
    },
    {
     "name": "stdout",
     "output_type": "stream",
     "text": [
      "🟢 Nuevo mejor error: 1.981614 con parámetros [0.00697159188292249, 0.08731131916943785, np.int64(100)]\n"
     ]
    },
    {
     "name": "stderr",
     "output_type": "stream",
     "text": [
      "Optimización Bayesiana en Progreso:  52%|█████▏    | 103/200 [00:46<01:23,  1.16it/s, Tiempo transcurrido=46.89 s, Tiempo restante=44.16 s, Mejor error=1.572540]"
     ]
    },
    {
     "name": "stdout",
     "output_type": "stream",
     "text": [
      "🟢 Nuevo mejor error: 1.572540 con parámetros [0.0045586935144450265, 0.08782628935785285, np.int64(100)]\n"
     ]
    },
    {
     "name": "stderr",
     "output_type": "stream",
     "text": [
      "Optimización Bayesiana en Progreso:  56%|█████▋    | 113/200 [00:56<01:23,  1.05it/s, Tiempo transcurrido=56.23 s, Tiempo restante=43.29 s, Mejor error=1.122188]"
     ]
    },
    {
     "name": "stdout",
     "output_type": "stream",
     "text": [
      "🟢 Nuevo mejor error: 1.122188 con parámetros [0.016730813535748068, 0.0851887039970643, np.int64(100)]\n"
     ]
    },
    {
     "name": "stderr",
     "output_type": "stream",
     "text": [
      "Optimización Bayesiana en Progreso:  60%|██████    | 120/200 [01:03<01:24,  1.05s/it, Tiempo transcurrido=63.53 s, Tiempo restante=42.35 s, Mejor error=0.686309]"
     ]
    },
    {
     "name": "stdout",
     "output_type": "stream",
     "text": [
      "🟢 Nuevo mejor error: 0.686309 con parámetros [0.023484893630734943, 0.08444121079269552, np.int64(93)]\n"
     ]
    },
    {
     "name": "stderr",
     "output_type": "stream",
     "text": [
      "Optimización Bayesiana en Progreso:  87%|████████▋ | 174/200 [02:25<00:51,  1.96s/it, Tiempo transcurrido=145.78 s, Tiempo restante=21.78 s, Mejor error=0.318118]"
     ]
    },
    {
     "name": "stdout",
     "output_type": "stream",
     "text": [
      "🟢 Nuevo mejor error: 0.318118 con parámetros [0.11053149255536864, 0.058589706745771034, np.int64(100)]\n"
     ]
    },
    {
     "name": "stderr",
     "output_type": "stream",
     "text": [
      "Optimización Bayesiana en Progreso:  99%|█████████▉| 198/200 [03:19<00:04,  2.41s/it, Tiempo transcurrido=199.55 s, Tiempo restante=2.02 s, Mejor error=0.246598] "
     ]
    },
    {
     "name": "stdout",
     "output_type": "stream",
     "text": [
      "🟢 Nuevo mejor error: 0.246598 con parámetros [0.09608763405594377, 0.06210483517616864, np.int64(100)]\n"
     ]
    },
    {
     "name": "stderr",
     "output_type": "stream",
     "text": [
      "Optimización Bayesiana en Progreso: 100%|██████████| 200/200 [03:27<00:00,  1.04s/it, Tiempo transcurrido=204.58 s, Tiempo restante=0.00 s, Mejor error=0.246598]"
     ]
    },
    {
     "name": "stdout",
     "output_type": "stream",
     "text": [
      "\n",
      "✅ Optimización completada\n",
      "🔹 Parámetros óptimos encontrados: [0.09608763405594377, 0.06210483517616864, np.int64(100)]\n",
      "🔹 Error mínimo encontrado: 0.2465976450583536\n",
      "⏳ Tiempo total de ejecución: 207.03 segundos\n"
     ]
    },
    {
     "name": "stderr",
     "output_type": "stream",
     "text": [
      "\n"
     ]
    }
   ],
   "source": [
    "# Definir los parámetros necesarios\n",
    "model_class = KineticMonteCarlo\n",
    "exp_data = data.iloc[8]\n",
    "time_array = np.array([0,1,3,6,9,12,20,40,60])\n",
    "space = [\n",
    "    Real(0, 0.4, name=\"e_ads\"),\n",
    "    Real(0, 0.4, name=\"e_int_abs\"),\n",
    "    Integer(60, 100, name=\"lattice_size\")\n",
    "]\n",
    "n_calls = 200\n",
    "random_state = 42\n",
    "\n",
    "# Crear una instancia de la clase BayesianOptimization\n",
    "bayes_opt = BayesianOptimization(model_class=model_class, exp_data=exp_data, time_array=time_array, space=space, n_calls=n_calls, random_state=random_state)\n",
    "\n",
    "# Ejecutar la optimización\n",
    "bayes_opt.optimize()"
   ]
  },
  {
   "cell_type": "code",
   "execution_count": 8,
   "metadata": {},
   "outputs": [
    {
     "data": {
      "text/plain": [
       "Text(0.5, 0, 'Tiempo (s)')"
      ]
     },
     "execution_count": 8,
     "metadata": {},
     "output_type": "execute_result"
    },
    {
     "data": {
      "image/png": "[encoded data removed]",
      "text/plain": [
       "<Figure size 640x480 with 1 Axes>"
      ]
     },
     "metadata": {},
     "output_type": "display_data"
    }
   ],
   "source": [
    "bayes_opt.best_params\n",
    "\n",
    "e_ads, e_int_abs, lattice_size = bayes_opt.best_params\n",
    "kmc_model = KineticMonteCarlo(lattice_size=lattice_size, e_ads=e_ads, e_int_abs=e_int_abs, time_factor=1e-7, time_array=time_array)\n",
    "kmc_model.run_simulation()\n",
    "\n",
    "simulated_data = np.array(list(kmc_model.occupancy.values()))\n",
    "plt.plot(time_array, exp_data, label=\"Datos experimentales\", marker=\"o\", linestyle=\"--\")\n",
    "plt.plot(time_array, simulated_data, label=\"Datos simulados\", marker=\"o\")\n",
    "plt.xlabel(\"Tiempo (s)\")\n"
   ]
  },
  {
   "cell_type": "code",
   "execution_count": 12,
   "metadata": {},
   "outputs": [],
   "source": [
    "N = 1000  # Número de simulaciones\n",
    "curves = []\n",
    "times = []\n",
    "\n",
    "for _ in range(N):\n",
    "    KMC = KineticMonteCarlo(lattice_size=lattice_size, e_ads=e_ads, e_int_abs=e_int_abs, time_factor=1e-7, time_array=time_array)\n",
    "    KMC.run_simulation()\n",
    "    curves.append(KMC.occupancy.values())\n",
    "    times.append(KMC.time_array)"
   ]
  },
  {
   "cell_type": "code",
   "execution_count": 13,
   "metadata": {},
   "outputs": [
    {
     "name": "stdout",
     "output_type": "stream",
     "text": [
      "Mean values:  [ 0.      22.03783 29.09122 34.31149 37.65912 40.13128 44.79631 51.72889\n",
      " 56.0234 ]\n",
      "Standard deviation values:  [0.         1.75646906 1.63548033 1.41241927 1.25841863 1.16092589\n",
      " 1.0379638  0.87203573 0.78098821]\n"
     ]
    },
    {
     "data": {
      "text/plain": [
       "<matplotlib.legend.Legend at 0x13fa92fd0>"
      ]
     },
     "execution_count": 13,
     "metadata": {},
     "output_type": "execute_result"
    },
    {
     "data": {
      "image/png": "[encoded data removed]",
      "text/plain": [
       "<Figure size 640x480 with 1 Axes>"
      ]
     },
     "metadata": {},
     "output_type": "display_data"
    }
   ],
   "source": [
    "df = pd.DataFrame(curves)\n",
    "mean_values = df.mean().to_numpy()\n",
    "std_values = df.std().to_numpy()\n",
    "\n",
    "print(\"Mean values: \", mean_values)\n",
    "print(\"Standard deviation values: \", std_values)\n",
    "\n",
    "plt.errorbar(time_array, mean_values, yerr=std_values, capsize=5, color='red', fmt='o', label='Mean values')\n",
    "plt.plot(time_array,exp_data,marker='o', label='Experimental data')\n",
    "plt.xlabel(\"Time\")\n",
    "plt.ylabel(\"Percentage of occupied sites\")\n",
    "plt.title(\"Adsorption over time\")\n",
    "plt.legend()\n"
   ]
  },
  {
   "cell_type": "markdown",
   "metadata": {},
   "source": [
    "### Reducción de variabilidad en los resultados kMC\n",
    "\n",
    "https://chatgpt.com/share/67c653e7-efa4-800c-8818-6a60bf2d7bfa"
   ]
  }
 ],
 "metadata": {
  "kernelspec": {
   "display_name": ".venv",
   "language": "python",
   "name": "python3"
  },
  "language_info": {
   "codemirror_mode": {
    "name": "ipython",
    "version": 3
   },
   "file_extension": ".py",
   "mimetype": "text/x-python",
   "name": "python",
   "nbconvert_exporter": "python",
   "pygments_lexer": "ipython3",
   "version": "3.9.6"
  }
 },
 "nbformat": 4,
 "nbformat_minor": 2
}
