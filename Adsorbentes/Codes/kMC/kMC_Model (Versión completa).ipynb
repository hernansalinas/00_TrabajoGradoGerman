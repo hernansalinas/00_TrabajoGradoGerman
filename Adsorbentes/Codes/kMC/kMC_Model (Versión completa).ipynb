{
 "cells": [
  {
   "cell_type": "code",
   "execution_count": 216,
   "metadata": {},
   "outputs": [],
   "source": [
    "import numpy as np\n",
    "import matplotlib.pyplot as plt\n",
    "from tqdm import tqdm\n",
    "import pandas as pd\n",
    "import time\n",
    "from skopt import gp_minimize\n",
    "from skopt.space import Real, Integer\n",
    "from tqdm import tqdm\n",
    "import seaborn as sns"
   ]
  },
  {
   "cell_type": "code",
   "execution_count": 217,
   "metadata": {},
   "outputs": [],
   "source": [
    "class KineticMonteCarlo:\n",
    "    def __init__(self, lattice_size, e_ads, e_int_abs, time_array, time_factor=1e-7, seed=None, T = 300):\n",
    "        self.lattice_size = lattice_size\n",
    "        self.lattice = np.zeros((lattice_size, lattice_size))\n",
    "        self.T = T\n",
    "        self.e_ads = e_ads\n",
    "        self.e_int_abs = e_int_abs\n",
    "        self.k_b = 8.617e-5\n",
    "        self.h = 4.136e-15\n",
    "        self.k_0 = 5\n",
    "        self.factor = time_factor\n",
    "        self.time = time_array[0]\n",
    "        self.time_array = time_array\n",
    "        self.end_time = self.time_array[-1]\n",
    "        self.occupancy = {t: None for t in self.time_array}\n",
    "        self.seed = seed\n",
    "        self.rng = np.random.default_rng(self.seed)\n",
    "        self.running = True\n",
    "\n",
    "    def pick_random_site(self):\n",
    "        i, j = self.rng.integers(0, self.lattice_size, size=2)        \n",
    "        return i, j\n",
    "\n",
    "    def count_occupied_neighbors(self, site):\n",
    "        neighbors = 0\n",
    "        i, j = site\n",
    "        for ni, nj in [(i-1, j), (i+1, j), (i, j-1), (i, j+1)]:\n",
    "            if 0 <= ni < self.lattice_size and 0 <= nj < self.lattice_size:\n",
    "                neighbors += self.lattice[ni, nj]\n",
    "        return neighbors\n",
    "\n",
    "    def activation_energies(self, site):\n",
    "        n_ij = self.count_occupied_neighbors(site)\n",
    "        ads = self.e_int_abs * n_ij + self.e_ads\n",
    "        return ads\n",
    "\n",
    "    def calculate_transition_rates(self, site):\n",
    "        E_ads= self.activation_energies(site)\n",
    "        k_ads = (self.k_0 * self.k_b * self.T) / self.h * np.exp(-E_ads / (self.k_b * self.T))\n",
    "        return k_ads\n",
    "\n",
    "    def stop_simulation(self):\n",
    "        self.running = False\n",
    "\n",
    "    def run_simulation(self):\n",
    "        \n",
    "        iteration_count = 0  # Contador de iteraciones\n",
    "\n",
    "        while self.time < self.end_time and self.running:\n",
    "            iteration_count += 1  # Incrementar el contador\n",
    "\n",
    "            for t in self.time_array:\n",
    "                if self.occupancy[t] is None and self.time >= t:\n",
    "                    per_adsorption = np.sum(self.lattice == 1) / (self.lattice_size ** 2) * 100\n",
    "                    self.occupancy[t] = per_adsorption\n",
    "\n",
    "            site = self.pick_random_site()\n",
    "            k_ads = self.calculate_transition_rates(site)\n",
    "\n",
    "            if k_ads == 0:\n",
    "                break  # No more events possible\n",
    "\n",
    "            delta_t = (-np.log(self.rng.random()) / k_ads) / self.factor\n",
    "            self.time += delta_t\n",
    "\n",
    "            self.lattice[site] = 1\n",
    "\n",
    "        for t in self.time_array:\n",
    "            if self.occupancy[t] is None and self.time >= t:\n",
    "                per_adsorption = np.sum(self.lattice == 1) / (self.lattice_size ** 2) * 100\n",
    "                self.occupancy[t] = per_adsorption\n",
    "\n",
    "        print(f\"Total de iteraciones: {iteration_count}\")\n"
   ]
  },
  {
   "cell_type": "code",
   "execution_count": 255,
   "metadata": {},
   "outputs": [],
   "source": [
    "import time\n",
    "import numpy as np\n",
    "import threading\n",
    "from skopt import gp_minimize\n",
    "from tqdm import tqdm\n",
    "\n",
    "class BayesianOptimization:\n",
    "    def __init__(self, model_class, exp_data, time_array, space, n_calls, time_limit_per_iter=10, random_state=42):\n",
    "        self.model_class = model_class\n",
    "        self.exp_data = exp_data\n",
    "        self.time_array = time_array\n",
    "        self.space = space\n",
    "        self.n_calls = n_calls\n",
    "        self.time_limit_per_iter = time_limit_per_iter  # Límite de tiempo por iteración en segundos\n",
    "        self.random_state = random_state\n",
    "        self.best_params = None\n",
    "        self.best_error = float(\"inf\")\n",
    "        self.progress_bar = tqdm(total=n_calls, desc=\"Optimización Bayesiana en Progreso\", position=0, dynamic_ncols=True)\n",
    "        self.start_time = None\n",
    "        self.failed_params = []  # Lista de parámetros descartados (pero no se imprimen)\n",
    "\n",
    "    def run_simulation_with_timeout(self, kmc_model):\n",
    "        \"\"\"Ejecuta la simulación con un límite de tiempo.\"\"\"\n",
    "        def simulation_task():\n",
    "            kmc_model.run_simulation()\n",
    "\n",
    "        thread = threading.Thread(target=simulation_task)\n",
    "        thread.start()\n",
    "        thread.join(timeout=self.time_limit_per_iter)  # Espera hasta el límite de tiempo\n",
    "\n",
    "        if thread.is_alive():\n",
    "            kmc_model.stop_simulation()  # Detiene la simulación\n",
    "            return False  # Indica que la simulación no se completó a tiempo\n",
    "        \n",
    "        return True  # Simulación completada con éxito\n",
    "\n",
    "    def loss_function(self, params):\n",
    "        e_ads, e_int_abs, lattice_size = params  \n",
    "\n",
    "        kmc_model = self.model_class(\n",
    "            lattice_size=lattice_size, e_ads=e_ads, e_int_abs=e_int_abs,\n",
    "            time_array=self.time_array\n",
    "        )\n",
    "\n",
    "        start_iter_time = time.time()\n",
    "        \n",
    "        # Ejecutar la simulación con límite de tiempo\n",
    "        success = self.run_simulation_with_timeout(kmc_model)\n",
    "\n",
    "        if not success:\n",
    "            self.failed_params.append(params)  # Guardar parámetros descartados\n",
    "            return 1000  # Penalización alta para que no los use\n",
    "\n",
    "        # Calcular error\n",
    "        simulated_data = np.array(list(kmc_model.occupancy.values()))\n",
    "        error = np.mean((simulated_data - self.exp_data) ** 2)\n",
    "\n",
    "        # Solo imprimir si hay mejora\n",
    "        if error < self.best_error:\n",
    "            self.best_error = error\n",
    "            self.best_params = params\n",
    "            print(f\"🔹 Mejor error: {self.best_error:.6f} con parámetros {self.best_params}\")\n",
    "\n",
    "        self.progress_bar.update(1)\n",
    "        return error\n",
    "\n",
    "    def optimize(self):\n",
    "        self.start_time = time.time()\n",
    "        result = gp_minimize(self.loss_function, self.space, n_calls=self.n_calls, random_state=self.random_state)\n",
    "        self.progress_bar.close()\n",
    "\n",
    "        end_time = time.time()\n",
    "        print(\"\\n✅ Optimización completada\")\n",
    "        print(f\"🔹 Parámetros óptimos: {self.best_params}\")\n",
    "        print(f\"🔹 Error mínimo encontrado: {self.best_error:.6f}\")\n",
    "        print(f\"⏳ Tiempo total de ejecución: {end_time - self.start_time:.2f} segundos\")\n"
   ]
  },
  {
   "cell_type": "code",
   "execution_count": 256,
   "metadata": {},
   "outputs": [],
   "source": [
    "data = pd.read_csv('Datos recogidos.csv')\n",
    "t = np.array([1,3,6,9,12,20,40,60])\n",
    "\n",
    "for col in data.columns:\n",
    "    data[col] = pd.to_numeric(data[col], errors='coerce')\n",
    "\n",
    "data.dropna(inplace=True)\n",
    "data.iloc[3] = data.iloc[3] * 10\n",
    "data.reset_index(drop=True, inplace=True)\n",
    "data.insert(0, 'T0', 0)"
   ]
  },
  {
   "cell_type": "code",
   "execution_count": 257,
   "metadata": {},
   "outputs": [
    {
     "name": "stderr",
     "output_type": "stream",
     "text": [
      "Optimización Bayesiana en Progreso:   0%|          | 0/200 [00:00<?, ?it/s]"
     ]
    },
    {
     "name": "stdout",
     "output_type": "stream",
     "text": [
      "Total de iteraciones: 264\n",
      "🔹 Mejor error: 1390.551368 con parámetros [0.3186171947440932, 0.07337391594646553, np.int64(91)]\n",
      "Total de iteraciones: 167\n",
      "🔹 Mejor error: 1315.220581 con parámetros [0.23874006317859486, 0.17833310114143652, np.int64(64)]\n",
      "Total de iteraciones: 365\n",
      "🔹 Mejor error: 1011.100816 con parámetros [0.18369955678634692, 0.13348344445560875, np.int64(66)]\n",
      "Total de iteraciones: 3235\n",
      "🔹 Mejor error: 541.909583 con parámetros [0.2603553891795412, 0.02256463161084011, np.int64(89)]\n",
      "Total de iteraciones: 111\n",
      "Total de iteraciones: 64\n",
      "Total de iteraciones: 593\n",
      "Total de iteraciones: 161\n",
      "Total de iteraciones: 237\n",
      "Total de iteraciones: 46\n"
     ]
    },
    {
     "name": "stderr",
     "output_type": "stream",
     "text": [
      "Optimización Bayesiana en Progreso:   6%|▌         | 11/200 [00:00<00:04, 42.95it/s]"
     ]
    },
    {
     "name": "stdout",
     "output_type": "stream",
     "text": [
      "Total de iteraciones: 1144\n",
      "Total de iteraciones: 3928\n",
      "🔹 Mejor error: 476.935682 con parámetros [0.26058862467731486, 0.01617278038646519, np.int64(89)]\n",
      "Total de iteraciones: 5145\n",
      "🔹 Mejor error: 430.620528 con parámetros [0.2656455120038372, 0.005061112124702632, np.int64(89)]\n",
      "Total de iteraciones: 6645\n",
      "🔹 Mejor error: 362.544403 con parámetros [0.2633009810390323, 0.001487009636488716, np.int64(89)]\n",
      "Total de iteraciones: 10025\n",
      "🔹 Mejor error: 283.147531 con parámetros [0.25414415383905414, 0.0, np.int64(88)]\n"
     ]
    },
    {
     "name": "stderr",
     "output_type": "stream",
     "text": [
      "Optimización Bayesiana en Progreso:   8%|▊         | 16/200 [00:01<00:24,  7.60it/s]"
     ]
    },
    {
     "name": "stdout",
     "output_type": "stream",
     "text": [
      "Total de iteraciones: 17368\n",
      "Total de iteraciones: 1377041\n"
     ]
    },
    {
     "name": "stderr",
     "output_type": "stream",
     "text": [
      "Optimización Bayesiana en Progreso:   9%|▉         | 18/200 [00:21<05:36,  1.85s/it]"
     ]
    },
    {
     "name": "stdout",
     "output_type": "stream",
     "text": [
      "Total de iteraciones: 1270325\n",
      "Total de iteraciones: 36\n",
      "Total de iteraciones: 10562\n",
      "🔹 Mejor error: 263.186133 con parámetros [0.2528157232387289, 0.0, np.int64(88)]\n"
     ]
    },
    {
     "name": "stderr",
     "output_type": "stream",
     "text": [
      "Optimización Bayesiana en Progreso:  10%|█         | 21/200 [00:22<03:42,  1.24s/it]"
     ]
    },
    {
     "name": "stdout",
     "output_type": "stream",
     "text": [
      "Total de iteraciones: 11544\n",
      "Total de iteraciones: 38\n"
     ]
    },
    {
     "name": "stderr",
     "output_type": "stream",
     "text": [
      "Optimización Bayesiana en Progreso:  12%|█▏        | 23/200 [00:22<02:34,  1.15it/s]"
     ]
    },
    {
     "name": "stdout",
     "output_type": "stream",
     "text": [
      "Total de iteraciones: 32\n",
      "Total de iteraciones: 124\n"
     ]
    },
    {
     "name": "stderr",
     "output_type": "stream",
     "text": [
      "Optimización Bayesiana en Progreso:  12%|█▏        | 24/200 [00:22<02:06,  1.40it/s]"
     ]
    },
    {
     "name": "stdout",
     "output_type": "stream",
     "text": [
      "Total de iteraciones: 246\n"
     ]
    },
    {
     "name": "stderr",
     "output_type": "stream",
     "text": [
      "Optimización Bayesiana en Progreso:  12%|█▎        | 25/200 [00:23<02:03,  1.41it/s]"
     ]
    },
    {
     "name": "stdout",
     "output_type": "stream",
     "text": [
      "Total de iteraciones: 55533\n",
      "Total de iteraciones: 1346272\n"
     ]
    },
    {
     "name": "stderr",
     "output_type": "stream",
     "text": [
      "Optimización Bayesiana en Progreso:  13%|█▎        | 26/200 [00:34<09:29,  3.27s/it]"
     ]
    },
    {
     "name": "stdout",
     "output_type": "stream",
     "text": [
      "Total de iteraciones: 12370\n"
     ]
    },
    {
     "name": "stderr",
     "output_type": "stream",
     "text": [
      "Optimización Bayesiana en Progreso:  14%|█▎        | 27/200 [00:34<07:07,  2.47s/it]"
     ]
    },
    {
     "name": "stdout",
     "output_type": "stream",
     "text": [
      "Total de iteraciones: 12215\n",
      "🔹 Mejor error: 257.514196 con parámetros [0.2489839952995293, 0.0, np.int64(93)]\n"
     ]
    },
    {
     "name": "stderr",
     "output_type": "stream",
     "text": [
      "Optimización Bayesiana en Progreso:  14%|█▍        | 28/200 [00:34<05:24,  1.89s/it]"
     ]
    },
    {
     "name": "stdout",
     "output_type": "stream",
     "text": [
      "Total de iteraciones: 12531\n"
     ]
    },
    {
     "name": "stderr",
     "output_type": "stream",
     "text": [
      "Optimización Bayesiana en Progreso:  14%|█▍        | 29/200 [00:35<04:06,  1.44s/it]"
     ]
    },
    {
     "name": "stdout",
     "output_type": "stream",
     "text": [
      "Total de iteraciones: 12841\n",
      "Total de iteraciones: 3890\n"
     ]
    },
    {
     "name": "stderr",
     "output_type": "stream",
     "text": [
      "Optimización Bayesiana en Progreso:  16%|█▌        | 31/200 [00:35<02:21,  1.19it/s]"
     ]
    },
    {
     "name": "stdout",
     "output_type": "stream",
     "text": [
      "Total de iteraciones: 2478\n",
      "🔹 Mejor error: 210.319021 con parámetros [0.0, 0.10556563911769379, np.int64(81)]\n"
     ]
    },
    {
     "name": "stderr",
     "output_type": "stream",
     "text": [
      "Optimización Bayesiana en Progreso:  16%|█▌        | 32/200 [00:35<01:53,  1.48it/s]"
     ]
    },
    {
     "name": "stdout",
     "output_type": "stream",
     "text": [
      "Total de iteraciones: 3156\n",
      "🔹 Mejor error: 54.729181 con parámetros [0.0, 0.10493495631164396, np.int64(77)]\n"
     ]
    },
    {
     "name": "stderr",
     "output_type": "stream",
     "text": [
      "Optimización Bayesiana en Progreso:  16%|█▋        | 33/200 [00:36<01:32,  1.81it/s]"
     ]
    },
    {
     "name": "stdout",
     "output_type": "stream",
     "text": [
      "Total de iteraciones: 2071\n",
      "🔹 Mejor error: 42.799686 con parámetros [0.0, 0.10340062341494971, np.int64(60)]\n"
     ]
    },
    {
     "name": "stderr",
     "output_type": "stream",
     "text": [
      "Optimización Bayesiana en Progreso:  17%|█▋        | 34/200 [00:36<01:19,  2.08it/s]"
     ]
    },
    {
     "name": "stdout",
     "output_type": "stream",
     "text": [
      "Total de iteraciones: 2033\n",
      "Total de iteraciones: 1318\n"
     ]
    },
    {
     "name": "stderr",
     "output_type": "stream",
     "text": [
      "Optimización Bayesiana en Progreso:  18%|█▊        | 36/200 [00:36<01:01,  2.67it/s]"
     ]
    },
    {
     "name": "stdout",
     "output_type": "stream",
     "text": [
      "Total de iteraciones: 3363\n"
     ]
    },
    {
     "name": "stderr",
     "output_type": "stream",
     "text": [
      "Optimización Bayesiana en Progreso:  18%|█▊        | 37/200 [00:37<00:56,  2.90it/s]"
     ]
    },
    {
     "name": "stdout",
     "output_type": "stream",
     "text": [
      "Total de iteraciones: 3741\n"
     ]
    },
    {
     "name": "stderr",
     "output_type": "stream",
     "text": [
      "Optimización Bayesiana en Progreso:  19%|█▉        | 38/200 [00:37<00:56,  2.86it/s]"
     ]
    },
    {
     "name": "stdout",
     "output_type": "stream",
     "text": [
      "Total de iteraciones: 3053\n",
      "🔹 Mejor error: 2.255762 con parámetros [0.005707028322464716, 0.09259261729431949, np.int64(60)]\n"
     ]
    },
    {
     "name": "stderr",
     "output_type": "stream",
     "text": [
      "Optimización Bayesiana en Progreso:  20%|█▉        | 39/200 [00:37<00:55,  2.89it/s]"
     ]
    },
    {
     "name": "stdout",
     "output_type": "stream",
     "text": [
      "Total de iteraciones: 2685\n"
     ]
    },
    {
     "name": "stderr",
     "output_type": "stream",
     "text": [
      "Optimización Bayesiana en Progreso:  20%|██        | 40/200 [00:38<00:53,  3.00it/s]"
     ]
    },
    {
     "name": "stdout",
     "output_type": "stream",
     "text": [
      "Total de iteraciones: 2780\n"
     ]
    },
    {
     "name": "stderr",
     "output_type": "stream",
     "text": [
      "Optimización Bayesiana en Progreso:  20%|██        | 41/200 [00:38<00:54,  2.91it/s]"
     ]
    },
    {
     "name": "stdout",
     "output_type": "stream",
     "text": [
      "Total de iteraciones: 3030\n"
     ]
    },
    {
     "name": "stderr",
     "output_type": "stream",
     "text": [
      "Optimización Bayesiana en Progreso:  21%|██        | 42/200 [00:39<00:56,  2.79it/s]"
     ]
    },
    {
     "name": "stdout",
     "output_type": "stream",
     "text": [
      "Total de iteraciones: 2848\n"
     ]
    },
    {
     "name": "stderr",
     "output_type": "stream",
     "text": [
      "Optimización Bayesiana en Progreso:  22%|██▏       | 43/200 [00:39<00:56,  2.78it/s]"
     ]
    },
    {
     "name": "stdout",
     "output_type": "stream",
     "text": [
      "Total de iteraciones: 2718\n"
     ]
    },
    {
     "name": "stderr",
     "output_type": "stream",
     "text": [
      "Optimización Bayesiana en Progreso:  22%|██▏       | 44/200 [00:39<00:58,  2.68it/s]"
     ]
    },
    {
     "name": "stdout",
     "output_type": "stream",
     "text": [
      "Total de iteraciones: 2908\n"
     ]
    },
    {
     "name": "stderr",
     "output_type": "stream",
     "text": [
      "Optimización Bayesiana en Progreso:  22%|██▎       | 45/200 [00:40<00:57,  2.69it/s]"
     ]
    },
    {
     "name": "stdout",
     "output_type": "stream",
     "text": [
      "Total de iteraciones: 2989\n"
     ]
    },
    {
     "name": "stderr",
     "output_type": "stream",
     "text": [
      "Optimización Bayesiana en Progreso:  23%|██▎       | 46/200 [00:40<00:56,  2.71it/s]"
     ]
    },
    {
     "name": "stdout",
     "output_type": "stream",
     "text": [
      "Total de iteraciones: 3125\n"
     ]
    },
    {
     "name": "stderr",
     "output_type": "stream",
     "text": [
      "Optimización Bayesiana en Progreso:  24%|██▎       | 47/200 [00:40<00:58,  2.61it/s]"
     ]
    },
    {
     "name": "stdout",
     "output_type": "stream",
     "text": [
      "Total de iteraciones: 2913\n"
     ]
    },
    {
     "name": "stderr",
     "output_type": "stream",
     "text": [
      "Optimización Bayesiana en Progreso:  24%|██▍       | 48/200 [00:41<00:58,  2.61it/s]"
     ]
    },
    {
     "name": "stdout",
     "output_type": "stream",
     "text": [
      "Total de iteraciones: 2853\n"
     ]
    },
    {
     "name": "stderr",
     "output_type": "stream",
     "text": [
      "Optimización Bayesiana en Progreso:  24%|██▍       | 49/200 [00:41<00:57,  2.61it/s]"
     ]
    },
    {
     "name": "stdout",
     "output_type": "stream",
     "text": [
      "Total de iteraciones: 2471\n"
     ]
    },
    {
     "name": "stderr",
     "output_type": "stream",
     "text": [
      "Optimización Bayesiana en Progreso:  25%|██▌       | 50/200 [00:42<00:57,  2.61it/s]"
     ]
    },
    {
     "name": "stdout",
     "output_type": "stream",
     "text": [
      "Total de iteraciones: 3671\n"
     ]
    },
    {
     "name": "stderr",
     "output_type": "stream",
     "text": [
      "Optimización Bayesiana en Progreso:  26%|██▌       | 51/200 [00:42<00:57,  2.58it/s]"
     ]
    },
    {
     "name": "stdout",
     "output_type": "stream",
     "text": [
      "Total de iteraciones: 3625\n"
     ]
    },
    {
     "name": "stderr",
     "output_type": "stream",
     "text": [
      "Optimización Bayesiana en Progreso:  26%|██▌       | 52/200 [00:42<01:02,  2.37it/s]"
     ]
    },
    {
     "name": "stdout",
     "output_type": "stream",
     "text": [
      "Total de iteraciones: 3624\n"
     ]
    },
    {
     "name": "stderr",
     "output_type": "stream",
     "text": [
      "Optimización Bayesiana en Progreso:  26%|██▋       | 53/200 [00:43<01:01,  2.38it/s]"
     ]
    },
    {
     "name": "stdout",
     "output_type": "stream",
     "text": [
      "Total de iteraciones: 3746\n"
     ]
    },
    {
     "name": "stderr",
     "output_type": "stream",
     "text": [
      "Optimización Bayesiana en Progreso:  27%|██▋       | 54/200 [00:43<01:02,  2.35it/s]"
     ]
    },
    {
     "name": "stdout",
     "output_type": "stream",
     "text": [
      "Total de iteraciones: 3760\n"
     ]
    },
    {
     "name": "stderr",
     "output_type": "stream",
     "text": [
      "Optimización Bayesiana en Progreso:  28%|██▊       | 55/200 [00:44<01:03,  2.28it/s]"
     ]
    },
    {
     "name": "stdout",
     "output_type": "stream",
     "text": [
      "Total de iteraciones: 3808\n"
     ]
    },
    {
     "name": "stderr",
     "output_type": "stream",
     "text": [
      "Optimización Bayesiana en Progreso:  28%|██▊       | 56/200 [00:44<01:04,  2.22it/s]"
     ]
    },
    {
     "name": "stdout",
     "output_type": "stream",
     "text": [
      "Total de iteraciones: 3565\n"
     ]
    },
    {
     "name": "stderr",
     "output_type": "stream",
     "text": [
      "Optimización Bayesiana en Progreso:  28%|██▊       | 57/200 [00:45<01:05,  2.17it/s]"
     ]
    },
    {
     "name": "stdout",
     "output_type": "stream",
     "text": [
      "Total de iteraciones: 3436\n"
     ]
    },
    {
     "name": "stderr",
     "output_type": "stream",
     "text": [
      "Optimización Bayesiana en Progreso:  29%|██▉       | 58/200 [00:45<01:05,  2.17it/s]"
     ]
    },
    {
     "name": "stdout",
     "output_type": "stream",
     "text": [
      "Total de iteraciones: 3401\n"
     ]
    },
    {
     "name": "stderr",
     "output_type": "stream",
     "text": [
      "Optimización Bayesiana en Progreso:  30%|██▉       | 59/200 [00:46<01:05,  2.16it/s]"
     ]
    },
    {
     "name": "stdout",
     "output_type": "stream",
     "text": [
      "Total de iteraciones: 3472\n"
     ]
    },
    {
     "name": "stderr",
     "output_type": "stream",
     "text": [
      "Optimización Bayesiana en Progreso:  30%|███       | 60/200 [00:46<01:04,  2.16it/s]"
     ]
    },
    {
     "name": "stdout",
     "output_type": "stream",
     "text": [
      "Total de iteraciones: 3237\n"
     ]
    },
    {
     "name": "stderr",
     "output_type": "stream",
     "text": [
      "Optimización Bayesiana en Progreso:  30%|███       | 61/200 [00:47<01:04,  2.16it/s]"
     ]
    },
    {
     "name": "stdout",
     "output_type": "stream",
     "text": [
      "Total de iteraciones: 3273\n"
     ]
    },
    {
     "name": "stderr",
     "output_type": "stream",
     "text": [
      "Optimización Bayesiana en Progreso:  31%|███       | 62/200 [00:47<01:05,  2.11it/s]"
     ]
    },
    {
     "name": "stdout",
     "output_type": "stream",
     "text": [
      "Total de iteraciones: 3194\n"
     ]
    },
    {
     "name": "stderr",
     "output_type": "stream",
     "text": [
      "Optimización Bayesiana en Progreso:  32%|███▏      | 63/200 [00:48<01:04,  2.11it/s]"
     ]
    },
    {
     "name": "stdout",
     "output_type": "stream",
     "text": [
      "Total de iteraciones: 3231\n"
     ]
    },
    {
     "name": "stderr",
     "output_type": "stream",
     "text": [
      "Optimización Bayesiana en Progreso:  32%|███▏      | 64/200 [00:48<01:06,  2.06it/s]"
     ]
    },
    {
     "name": "stdout",
     "output_type": "stream",
     "text": [
      "Total de iteraciones: 3119\n"
     ]
    },
    {
     "name": "stderr",
     "output_type": "stream",
     "text": [
      "Optimización Bayesiana en Progreso:  32%|███▎      | 65/200 [00:49<01:06,  2.05it/s]"
     ]
    },
    {
     "name": "stdout",
     "output_type": "stream",
     "text": [
      "Total de iteraciones: 3024\n"
     ]
    },
    {
     "name": "stderr",
     "output_type": "stream",
     "text": [
      "Optimización Bayesiana en Progreso:  33%|███▎      | 66/200 [00:49<01:07,  1.99it/s]"
     ]
    },
    {
     "name": "stdout",
     "output_type": "stream",
     "text": [
      "Total de iteraciones: 3403\n"
     ]
    },
    {
     "name": "stderr",
     "output_type": "stream",
     "text": [
      "Optimización Bayesiana en Progreso:  34%|███▎      | 67/200 [00:50<01:10,  1.90it/s]"
     ]
    },
    {
     "name": "stdout",
     "output_type": "stream",
     "text": [
      "Total de iteraciones: 3275\n"
     ]
    },
    {
     "name": "stderr",
     "output_type": "stream",
     "text": [
      "Optimización Bayesiana en Progreso:  34%|███▍      | 68/200 [00:50<01:09,  1.91it/s]"
     ]
    },
    {
     "name": "stdout",
     "output_type": "stream",
     "text": [
      "Total de iteraciones: 3606\n"
     ]
    },
    {
     "name": "stderr",
     "output_type": "stream",
     "text": [
      "Optimización Bayesiana en Progreso:  34%|███▍      | 69/200 [00:51<01:07,  1.94it/s]"
     ]
    },
    {
     "name": "stdout",
     "output_type": "stream",
     "text": [
      "Total de iteraciones: 3667\n"
     ]
    },
    {
     "name": "stderr",
     "output_type": "stream",
     "text": [
      "Optimización Bayesiana en Progreso:  35%|███▌      | 70/200 [00:51<01:05,  1.99it/s]"
     ]
    },
    {
     "name": "stdout",
     "output_type": "stream",
     "text": [
      "Total de iteraciones: 2821\n"
     ]
    },
    {
     "name": "stderr",
     "output_type": "stream",
     "text": [
      "Optimización Bayesiana en Progreso:  36%|███▌      | 71/200 [00:52<01:06,  1.93it/s]"
     ]
    },
    {
     "name": "stdout",
     "output_type": "stream",
     "text": [
      "Total de iteraciones: 3571\n"
     ]
    },
    {
     "name": "stderr",
     "output_type": "stream",
     "text": [
      "Optimización Bayesiana en Progreso:  36%|███▌      | 72/200 [00:52<01:08,  1.87it/s]"
     ]
    },
    {
     "name": "stdout",
     "output_type": "stream",
     "text": [
      "Total de iteraciones: 3649\n"
     ]
    },
    {
     "name": "stderr",
     "output_type": "stream",
     "text": [
      "Optimización Bayesiana en Progreso:  36%|███▋      | 73/200 [00:53<01:06,  1.92it/s]"
     ]
    },
    {
     "name": "stdout",
     "output_type": "stream",
     "text": [
      "Total de iteraciones: 1103\n"
     ]
    },
    {
     "name": "stderr",
     "output_type": "stream",
     "text": [
      "Optimización Bayesiana en Progreso:  37%|███▋      | 74/200 [00:53<01:09,  1.82it/s]"
     ]
    },
    {
     "name": "stdout",
     "output_type": "stream",
     "text": [
      "Total de iteraciones: 3397\n"
     ]
    },
    {
     "name": "stderr",
     "output_type": "stream",
     "text": [
      "Optimización Bayesiana en Progreso:  38%|███▊      | 75/200 [00:54<01:08,  1.82it/s]"
     ]
    },
    {
     "name": "stdout",
     "output_type": "stream",
     "text": [
      "Total de iteraciones: 3304\n"
     ]
    },
    {
     "name": "stderr",
     "output_type": "stream",
     "text": [
      "Optimización Bayesiana en Progreso:  38%|███▊      | 76/200 [00:55<01:08,  1.81it/s]"
     ]
    },
    {
     "name": "stdout",
     "output_type": "stream",
     "text": [
      "Total de iteraciones: 3749\n"
     ]
    },
    {
     "name": "stderr",
     "output_type": "stream",
     "text": [
      "Optimización Bayesiana en Progreso:  38%|███▊      | 77/200 [00:55<01:10,  1.75it/s]"
     ]
    },
    {
     "name": "stdout",
     "output_type": "stream",
     "text": [
      "Total de iteraciones: 34\n"
     ]
    },
    {
     "name": "stderr",
     "output_type": "stream",
     "text": [
      "Optimización Bayesiana en Progreso:  39%|███▉      | 78/200 [00:56<01:11,  1.70it/s]"
     ]
    },
    {
     "name": "stdout",
     "output_type": "stream",
     "text": [
      "Total de iteraciones: 3414\n"
     ]
    },
    {
     "name": "stderr",
     "output_type": "stream",
     "text": [
      "Optimización Bayesiana en Progreso:  40%|███▉      | 79/200 [00:56<01:10,  1.71it/s]"
     ]
    },
    {
     "name": "stdout",
     "output_type": "stream",
     "text": [
      "Total de iteraciones: 3346\n"
     ]
    },
    {
     "name": "stderr",
     "output_type": "stream",
     "text": [
      "Optimización Bayesiana en Progreso:  40%|████      | 80/200 [00:57<01:12,  1.65it/s]"
     ]
    },
    {
     "name": "stdout",
     "output_type": "stream",
     "text": [
      "Total de iteraciones: 3416\n"
     ]
    },
    {
     "name": "stderr",
     "output_type": "stream",
     "text": [
      "Optimización Bayesiana en Progreso:  40%|████      | 81/200 [00:58<01:11,  1.66it/s]"
     ]
    },
    {
     "name": "stdout",
     "output_type": "stream",
     "text": [
      "Total de iteraciones: 311\n"
     ]
    },
    {
     "name": "stderr",
     "output_type": "stream",
     "text": [
      "Optimización Bayesiana en Progreso:  41%|████      | 82/200 [00:58<01:13,  1.60it/s]"
     ]
    },
    {
     "name": "stdout",
     "output_type": "stream",
     "text": [
      "Total de iteraciones: 3430\n",
      "🔹 Mejor error: 1.018072 con parámetros [0.005800909889081623, 0.0935558997898352, np.int64(66)]\n"
     ]
    },
    {
     "name": "stderr",
     "output_type": "stream",
     "text": [
      "Optimización Bayesiana en Progreso:  42%|████▏     | 83/200 [00:59<01:12,  1.61it/s]"
     ]
    },
    {
     "name": "stdout",
     "output_type": "stream",
     "text": [
      "Total de iteraciones: 37\n"
     ]
    },
    {
     "name": "stderr",
     "output_type": "stream",
     "text": [
      "Optimización Bayesiana en Progreso:  42%|████▏     | 84/200 [01:00<01:12,  1.60it/s]"
     ]
    },
    {
     "name": "stdout",
     "output_type": "stream",
     "text": [
      "Total de iteraciones: 2188\n"
     ]
    },
    {
     "name": "stderr",
     "output_type": "stream",
     "text": [
      "Optimización Bayesiana en Progreso:  42%|████▎     | 85/200 [01:00<01:12,  1.58it/s]"
     ]
    },
    {
     "name": "stdout",
     "output_type": "stream",
     "text": [
      "Total de iteraciones: 3654\n"
     ]
    },
    {
     "name": "stderr",
     "output_type": "stream",
     "text": [
      "Optimización Bayesiana en Progreso:  43%|████▎     | 86/200 [01:01<01:13,  1.54it/s]"
     ]
    },
    {
     "name": "stdout",
     "output_type": "stream",
     "text": [
      "Total de iteraciones: 4048\n"
     ]
    },
    {
     "name": "stderr",
     "output_type": "stream",
     "text": [
      "Optimización Bayesiana en Progreso:  44%|████▎     | 87/200 [01:02<01:15,  1.50it/s]"
     ]
    },
    {
     "name": "stdout",
     "output_type": "stream",
     "text": [
      "Total de iteraciones: 3928\n"
     ]
    },
    {
     "name": "stderr",
     "output_type": "stream",
     "text": [
      "Optimización Bayesiana en Progreso:  44%|████▍     | 88/200 [01:02<01:16,  1.46it/s]"
     ]
    },
    {
     "name": "stdout",
     "output_type": "stream",
     "text": [
      "Total de iteraciones: 3950\n"
     ]
    },
    {
     "name": "stderr",
     "output_type": "stream",
     "text": [
      "Optimización Bayesiana en Progreso:  44%|████▍     | 89/200 [01:03<01:14,  1.48it/s]"
     ]
    },
    {
     "name": "stdout",
     "output_type": "stream",
     "text": [
      "Total de iteraciones: 372\n"
     ]
    },
    {
     "name": "stderr",
     "output_type": "stream",
     "text": [
      "Optimización Bayesiana en Progreso:  45%|████▌     | 90/200 [01:04<01:20,  1.36it/s]"
     ]
    },
    {
     "name": "stdout",
     "output_type": "stream",
     "text": [
      "Total de iteraciones: 3737\n"
     ]
    },
    {
     "name": "stderr",
     "output_type": "stream",
     "text": [
      "Optimización Bayesiana en Progreso:  46%|████▌     | 91/200 [01:05<01:20,  1.35it/s]"
     ]
    },
    {
     "name": "stdout",
     "output_type": "stream",
     "text": [
      "Total de iteraciones: 3532\n"
     ]
    },
    {
     "name": "stderr",
     "output_type": "stream",
     "text": [
      "Optimización Bayesiana en Progreso:  46%|████▌     | 92/200 [01:05<01:23,  1.30it/s]"
     ]
    },
    {
     "name": "stdout",
     "output_type": "stream",
     "text": [
      "Total de iteraciones: 44\n"
     ]
    },
    {
     "name": "stderr",
     "output_type": "stream",
     "text": [
      "Optimización Bayesiana en Progreso:  46%|████▋     | 93/200 [01:06<01:22,  1.29it/s]"
     ]
    },
    {
     "name": "stdout",
     "output_type": "stream",
     "text": [
      "Total de iteraciones: 680\n"
     ]
    },
    {
     "name": "stderr",
     "output_type": "stream",
     "text": [
      "Optimización Bayesiana en Progreso:  47%|████▋     | 94/200 [01:07<01:25,  1.24it/s]"
     ]
    },
    {
     "name": "stdout",
     "output_type": "stream",
     "text": [
      "Total de iteraciones: 3608\n"
     ]
    },
    {
     "name": "stderr",
     "output_type": "stream",
     "text": [
      "Optimización Bayesiana en Progreso:  48%|████▊     | 95/200 [01:08<01:24,  1.25it/s]"
     ]
    },
    {
     "name": "stdout",
     "output_type": "stream",
     "text": [
      "Total de iteraciones: 3382\n"
     ]
    },
    {
     "name": "stderr",
     "output_type": "stream",
     "text": [
      "Optimización Bayesiana en Progreso:  48%|████▊     | 96/200 [01:09<01:27,  1.18it/s]"
     ]
    },
    {
     "name": "stdout",
     "output_type": "stream",
     "text": [
      "Total de iteraciones: 3804\n"
     ]
    },
    {
     "name": "stderr",
     "output_type": "stream",
     "text": [
      "Optimización Bayesiana en Progreso:  48%|████▊     | 97/200 [01:10<01:31,  1.13it/s]"
     ]
    },
    {
     "name": "stdout",
     "output_type": "stream",
     "text": [
      "Total de iteraciones: 3899\n"
     ]
    },
    {
     "name": "stderr",
     "output_type": "stream",
     "text": [
      "Optimización Bayesiana en Progreso:  49%|████▉     | 98/200 [01:11<01:30,  1.12it/s]"
     ]
    },
    {
     "name": "stdout",
     "output_type": "stream",
     "text": [
      "Total de iteraciones: 4083\n"
     ]
    },
    {
     "name": "stderr",
     "output_type": "stream",
     "text": [
      "Optimización Bayesiana en Progreso:  50%|████▉     | 99/200 [01:12<01:27,  1.15it/s]"
     ]
    },
    {
     "name": "stdout",
     "output_type": "stream",
     "text": [
      "Total de iteraciones: 99\n"
     ]
    },
    {
     "name": "stderr",
     "output_type": "stream",
     "text": [
      "Optimización Bayesiana en Progreso:  50%|█████     | 100/200 [01:13<01:30,  1.11it/s]"
     ]
    },
    {
     "name": "stdout",
     "output_type": "stream",
     "text": [
      "Total de iteraciones: 3360\n"
     ]
    },
    {
     "name": "stderr",
     "output_type": "stream",
     "text": [
      "Optimización Bayesiana en Progreso:  50%|█████     | 101/200 [01:14<01:32,  1.07it/s]"
     ]
    },
    {
     "name": "stdout",
     "output_type": "stream",
     "text": [
      "Total de iteraciones: 4548\n"
     ]
    },
    {
     "name": "stderr",
     "output_type": "stream",
     "text": [
      "Optimización Bayesiana en Progreso:  51%|█████     | 102/200 [01:14<01:29,  1.09it/s]"
     ]
    },
    {
     "name": "stdout",
     "output_type": "stream",
     "text": [
      "Total de iteraciones: 1132\n"
     ]
    },
    {
     "name": "stderr",
     "output_type": "stream",
     "text": [
      "Optimización Bayesiana en Progreso:  52%|█████▏    | 103/200 [01:15<01:27,  1.10it/s]"
     ]
    },
    {
     "name": "stdout",
     "output_type": "stream",
     "text": [
      "Total de iteraciones: 1461\n"
     ]
    },
    {
     "name": "stderr",
     "output_type": "stream",
     "text": [
      "Optimización Bayesiana en Progreso:  52%|█████▏    | 104/200 [01:16<01:32,  1.04it/s]"
     ]
    },
    {
     "name": "stdout",
     "output_type": "stream",
     "text": [
      "Total de iteraciones: 16253\n"
     ]
    },
    {
     "name": "stderr",
     "output_type": "stream",
     "text": [
      "Optimización Bayesiana en Progreso:  52%|█████▎    | 105/200 [01:17<01:31,  1.03it/s]"
     ]
    },
    {
     "name": "stdout",
     "output_type": "stream",
     "text": [
      "Total de iteraciones: 2519\n"
     ]
    },
    {
     "name": "stderr",
     "output_type": "stream",
     "text": [
      "Optimización Bayesiana en Progreso:  53%|█████▎    | 106/200 [01:18<01:30,  1.04it/s]"
     ]
    },
    {
     "name": "stdout",
     "output_type": "stream",
     "text": [
      "Total de iteraciones: 2999\n"
     ]
    },
    {
     "name": "stderr",
     "output_type": "stream",
     "text": [
      "Optimización Bayesiana en Progreso:  54%|█████▎    | 107/200 [01:19<01:29,  1.04it/s]"
     ]
    },
    {
     "name": "stdout",
     "output_type": "stream",
     "text": [
      "Total de iteraciones: 3549\n"
     ]
    },
    {
     "name": "stderr",
     "output_type": "stream",
     "text": [
      "Optimización Bayesiana en Progreso:  54%|█████▍    | 108/200 [01:20<01:30,  1.02it/s]"
     ]
    },
    {
     "name": "stdout",
     "output_type": "stream",
     "text": [
      "Total de iteraciones: 2501\n"
     ]
    },
    {
     "name": "stderr",
     "output_type": "stream",
     "text": [
      "Optimización Bayesiana en Progreso:  55%|█████▍    | 109/200 [01:21<01:30,  1.01it/s]"
     ]
    },
    {
     "name": "stdout",
     "output_type": "stream",
     "text": [
      "Total de iteraciones: 2479\n"
     ]
    },
    {
     "name": "stderr",
     "output_type": "stream",
     "text": [
      "Optimización Bayesiana en Progreso:  55%|█████▌    | 110/200 [01:22<01:29,  1.00it/s]"
     ]
    },
    {
     "name": "stdout",
     "output_type": "stream",
     "text": [
      "Total de iteraciones: 2345\n"
     ]
    },
    {
     "name": "stderr",
     "output_type": "stream",
     "text": [
      "Optimización Bayesiana en Progreso:  56%|█████▌    | 111/200 [01:23<01:29,  1.00s/it]"
     ]
    },
    {
     "name": "stdout",
     "output_type": "stream",
     "text": [
      "Total de iteraciones: 2575\n"
     ]
    },
    {
     "name": "stderr",
     "output_type": "stream",
     "text": [
      "Optimización Bayesiana en Progreso:  56%|█████▌    | 112/200 [01:24<01:28,  1.01s/it]"
     ]
    },
    {
     "name": "stdout",
     "output_type": "stream",
     "text": [
      "Total de iteraciones: 2565\n"
     ]
    },
    {
     "name": "stderr",
     "output_type": "stream",
     "text": [
      "Optimización Bayesiana en Progreso:  56%|█████▋    | 113/200 [01:25<01:29,  1.03s/it]"
     ]
    },
    {
     "name": "stdout",
     "output_type": "stream",
     "text": [
      "Total de iteraciones: 2294\n"
     ]
    },
    {
     "name": "stderr",
     "output_type": "stream",
     "text": [
      "Optimización Bayesiana en Progreso:  57%|█████▋    | 114/200 [01:26<01:28,  1.03s/it]"
     ]
    },
    {
     "name": "stdout",
     "output_type": "stream",
     "text": [
      "Total de iteraciones: 2405\n"
     ]
    },
    {
     "name": "stderr",
     "output_type": "stream",
     "text": [
      "Optimización Bayesiana en Progreso:  57%|█████▊    | 115/200 [01:28<01:28,  1.04s/it]"
     ]
    },
    {
     "name": "stdout",
     "output_type": "stream",
     "text": [
      "Total de iteraciones: 1626\n"
     ]
    },
    {
     "name": "stderr",
     "output_type": "stream",
     "text": [
      "Optimización Bayesiana en Progreso:  58%|█████▊    | 116/200 [01:29<01:30,  1.07s/it]"
     ]
    },
    {
     "name": "stdout",
     "output_type": "stream",
     "text": [
      "Total de iteraciones: 2895\n"
     ]
    },
    {
     "name": "stderr",
     "output_type": "stream",
     "text": [
      "Optimización Bayesiana en Progreso:  58%|█████▊    | 117/200 [01:30<01:29,  1.08s/it]"
     ]
    },
    {
     "name": "stdout",
     "output_type": "stream",
     "text": [
      "Total de iteraciones: 2893\n"
     ]
    },
    {
     "name": "stderr",
     "output_type": "stream",
     "text": [
      "Optimización Bayesiana en Progreso:  59%|█████▉    | 118/200 [01:31<01:27,  1.07s/it]"
     ]
    },
    {
     "name": "stdout",
     "output_type": "stream",
     "text": [
      "Total de iteraciones: 3050\n"
     ]
    },
    {
     "name": "stderr",
     "output_type": "stream",
     "text": [
      "Optimización Bayesiana en Progreso:  60%|█████▉    | 119/200 [01:32<01:28,  1.09s/it]"
     ]
    },
    {
     "name": "stdout",
     "output_type": "stream",
     "text": [
      "Total de iteraciones: 3010\n"
     ]
    },
    {
     "name": "stderr",
     "output_type": "stream",
     "text": [
      "Optimización Bayesiana en Progreso:  60%|██████    | 120/200 [01:33<01:29,  1.11s/it]"
     ]
    },
    {
     "name": "stdout",
     "output_type": "stream",
     "text": [
      "Total de iteraciones: 3032\n"
     ]
    },
    {
     "name": "stderr",
     "output_type": "stream",
     "text": [
      "Optimización Bayesiana en Progreso:  60%|██████    | 121/200 [01:34<01:32,  1.17s/it]"
     ]
    },
    {
     "name": "stdout",
     "output_type": "stream",
     "text": [
      "Total de iteraciones: 3011\n"
     ]
    },
    {
     "name": "stderr",
     "output_type": "stream",
     "text": [
      "Optimización Bayesiana en Progreso:  61%|██████    | 122/200 [01:36<01:31,  1.17s/it]"
     ]
    },
    {
     "name": "stdout",
     "output_type": "stream",
     "text": [
      "Total de iteraciones: 3017\n"
     ]
    },
    {
     "name": "stderr",
     "output_type": "stream",
     "text": [
      "Optimización Bayesiana en Progreso:  62%|██████▏   | 123/200 [01:37<01:30,  1.17s/it]"
     ]
    },
    {
     "name": "stdout",
     "output_type": "stream",
     "text": [
      "Total de iteraciones: 2979\n"
     ]
    },
    {
     "name": "stderr",
     "output_type": "stream",
     "text": [
      "Optimización Bayesiana en Progreso:  62%|██████▏   | 124/200 [01:38<01:29,  1.18s/it]"
     ]
    },
    {
     "name": "stdout",
     "output_type": "stream",
     "text": [
      "Total de iteraciones: 2657\n"
     ]
    },
    {
     "name": "stderr",
     "output_type": "stream",
     "text": [
      "Optimización Bayesiana en Progreso:  62%|██████▎   | 125/200 [01:39<01:30,  1.21s/it]"
     ]
    },
    {
     "name": "stdout",
     "output_type": "stream",
     "text": [
      "Total de iteraciones: 3135\n"
     ]
    },
    {
     "name": "stderr",
     "output_type": "stream",
     "text": [
      "Optimización Bayesiana en Progreso:  63%|██████▎   | 126/200 [01:41<01:29,  1.22s/it]"
     ]
    },
    {
     "name": "stdout",
     "output_type": "stream",
     "text": [
      "Total de iteraciones: 3996\n"
     ]
    },
    {
     "name": "stderr",
     "output_type": "stream",
     "text": [
      "Optimización Bayesiana en Progreso:  64%|██████▎   | 127/200 [01:42<01:28,  1.21s/it]"
     ]
    },
    {
     "name": "stdout",
     "output_type": "stream",
     "text": [
      "Total de iteraciones: 4012\n"
     ]
    },
    {
     "name": "stderr",
     "output_type": "stream",
     "text": [
      "Optimización Bayesiana en Progreso:  64%|██████▍   | 128/200 [01:43<01:28,  1.23s/it]"
     ]
    },
    {
     "name": "stdout",
     "output_type": "stream",
     "text": [
      "Total de iteraciones: 3936\n"
     ]
    },
    {
     "name": "stderr",
     "output_type": "stream",
     "text": [
      "Optimización Bayesiana en Progreso:  64%|██████▍   | 129/200 [01:44<01:27,  1.23s/it]"
     ]
    },
    {
     "name": "stdout",
     "output_type": "stream",
     "text": [
      "Total de iteraciones: 3751\n"
     ]
    },
    {
     "name": "stderr",
     "output_type": "stream",
     "text": [
      "Optimización Bayesiana en Progreso:  65%|██████▌   | 130/200 [01:45<01:26,  1.24s/it]"
     ]
    },
    {
     "name": "stdout",
     "output_type": "stream",
     "text": [
      "Total de iteraciones: 4238\n"
     ]
    },
    {
     "name": "stderr",
     "output_type": "stream",
     "text": [
      "Optimización Bayesiana en Progreso:  66%|██████▌   | 131/200 [01:47<01:27,  1.26s/it]"
     ]
    },
    {
     "name": "stdout",
     "output_type": "stream",
     "text": [
      "Total de iteraciones: 3415\n"
     ]
    },
    {
     "name": "stderr",
     "output_type": "stream",
     "text": [
      "Optimización Bayesiana en Progreso:  66%|██████▌   | 132/200 [01:48<01:27,  1.29s/it]"
     ]
    },
    {
     "name": "stdout",
     "output_type": "stream",
     "text": [
      "Total de iteraciones: 3599\n"
     ]
    },
    {
     "name": "stderr",
     "output_type": "stream",
     "text": [
      "Optimización Bayesiana en Progreso:  66%|██████▋   | 133/200 [01:50<01:28,  1.32s/it]"
     ]
    },
    {
     "name": "stdout",
     "output_type": "stream",
     "text": [
      "Total de iteraciones: 3992\n"
     ]
    },
    {
     "name": "stderr",
     "output_type": "stream",
     "text": [
      "Optimización Bayesiana en Progreso:  67%|██████▋   | 134/200 [01:51<01:29,  1.35s/it]"
     ]
    },
    {
     "name": "stdout",
     "output_type": "stream",
     "text": [
      "Total de iteraciones: 4237\n"
     ]
    },
    {
     "name": "stderr",
     "output_type": "stream",
     "text": [
      "Optimización Bayesiana en Progreso:  68%|██████▊   | 135/200 [01:52<01:28,  1.37s/it]"
     ]
    },
    {
     "name": "stdout",
     "output_type": "stream",
     "text": [
      "Total de iteraciones: 4003\n"
     ]
    },
    {
     "name": "stderr",
     "output_type": "stream",
     "text": [
      "Optimización Bayesiana en Progreso:  68%|██████▊   | 136/200 [01:54<01:27,  1.36s/it]"
     ]
    },
    {
     "name": "stdout",
     "output_type": "stream",
     "text": [
      "Total de iteraciones: 3611\n"
     ]
    },
    {
     "name": "stderr",
     "output_type": "stream",
     "text": [
      "Optimización Bayesiana en Progreso:  68%|██████▊   | 137/200 [01:55<01:25,  1.35s/it]"
     ]
    },
    {
     "name": "stdout",
     "output_type": "stream",
     "text": [
      "Total de iteraciones: 3467\n"
     ]
    },
    {
     "name": "stderr",
     "output_type": "stream",
     "text": [
      "Optimización Bayesiana en Progreso:  69%|██████▉   | 138/200 [01:56<01:24,  1.36s/it]"
     ]
    },
    {
     "name": "stdout",
     "output_type": "stream",
     "text": [
      "Total de iteraciones: 3174\n"
     ]
    },
    {
     "name": "stderr",
     "output_type": "stream",
     "text": [
      "Optimización Bayesiana en Progreso:  70%|██████▉   | 139/200 [01:58<01:23,  1.38s/it]"
     ]
    },
    {
     "name": "stdout",
     "output_type": "stream",
     "text": [
      "Total de iteraciones: 3259\n"
     ]
    },
    {
     "name": "stderr",
     "output_type": "stream",
     "text": [
      "Optimización Bayesiana en Progreso:  70%|███████   | 140/200 [01:59<01:24,  1.40s/it]"
     ]
    },
    {
     "name": "stdout",
     "output_type": "stream",
     "text": [
      "Total de iteraciones: 4715\n"
     ]
    },
    {
     "name": "stderr",
     "output_type": "stream",
     "text": [
      "Optimización Bayesiana en Progreso:  70%|███████   | 141/200 [02:01<01:22,  1.40s/it]"
     ]
    },
    {
     "name": "stdout",
     "output_type": "stream",
     "text": [
      "Total de iteraciones: 3611\n"
     ]
    },
    {
     "name": "stderr",
     "output_type": "stream",
     "text": [
      "Optimización Bayesiana en Progreso:  71%|███████   | 142/200 [02:02<01:23,  1.44s/it]"
     ]
    },
    {
     "name": "stdout",
     "output_type": "stream",
     "text": [
      "Total de iteraciones: 3801\n"
     ]
    },
    {
     "name": "stderr",
     "output_type": "stream",
     "text": [
      "Optimización Bayesiana en Progreso:  72%|███████▏  | 143/200 [02:04<01:23,  1.47s/it]"
     ]
    },
    {
     "name": "stdout",
     "output_type": "stream",
     "text": [
      "Total de iteraciones: 3878\n"
     ]
    },
    {
     "name": "stderr",
     "output_type": "stream",
     "text": [
      "Optimización Bayesiana en Progreso:  72%|███████▏  | 144/200 [02:05<01:22,  1.48s/it]"
     ]
    },
    {
     "name": "stdout",
     "output_type": "stream",
     "text": [
      "Total de iteraciones: 3711\n"
     ]
    },
    {
     "name": "stderr",
     "output_type": "stream",
     "text": [
      "Optimización Bayesiana en Progreso:  72%|███████▎  | 145/200 [02:07<01:23,  1.52s/it]"
     ]
    },
    {
     "name": "stdout",
     "output_type": "stream",
     "text": [
      "Total de iteraciones: 3945\n"
     ]
    },
    {
     "name": "stderr",
     "output_type": "stream",
     "text": [
      "Optimización Bayesiana en Progreso:  73%|███████▎  | 146/200 [02:08<01:21,  1.51s/it]"
     ]
    },
    {
     "name": "stdout",
     "output_type": "stream",
     "text": [
      "Total de iteraciones: 3790\n",
      "🔹 Mejor error: 0.688294 con parámetros [0.025939751007789197, 0.08670513546568176, np.int64(68)]\n"
     ]
    },
    {
     "name": "stderr",
     "output_type": "stream",
     "text": [
      "Optimización Bayesiana en Progreso:  74%|███████▎  | 147/200 [02:10<01:22,  1.56s/it]"
     ]
    },
    {
     "name": "stdout",
     "output_type": "stream",
     "text": [
      "Total de iteraciones: 3703\n"
     ]
    },
    {
     "name": "stderr",
     "output_type": "stream",
     "text": [
      "Optimización Bayesiana en Progreso:  74%|███████▍  | 148/200 [02:12<01:21,  1.57s/it]"
     ]
    },
    {
     "name": "stdout",
     "output_type": "stream",
     "text": [
      "Total de iteraciones: 4048\n"
     ]
    },
    {
     "name": "stderr",
     "output_type": "stream",
     "text": [
      "Optimización Bayesiana en Progreso:  74%|███████▍  | 149/200 [02:13<01:20,  1.58s/it]"
     ]
    },
    {
     "name": "stdout",
     "output_type": "stream",
     "text": [
      "Total de iteraciones: 3358\n"
     ]
    },
    {
     "name": "stderr",
     "output_type": "stream",
     "text": [
      "Optimización Bayesiana en Progreso:  75%|███████▌  | 150/200 [02:15<01:19,  1.59s/it]"
     ]
    },
    {
     "name": "stdout",
     "output_type": "stream",
     "text": [
      "Total de iteraciones: 3360\n"
     ]
    },
    {
     "name": "stderr",
     "output_type": "stream",
     "text": [
      "Optimización Bayesiana en Progreso:  76%|███████▌  | 151/200 [02:17<01:19,  1.62s/it]"
     ]
    },
    {
     "name": "stdout",
     "output_type": "stream",
     "text": [
      "Total de iteraciones: 3597\n"
     ]
    },
    {
     "name": "stderr",
     "output_type": "stream",
     "text": [
      "Optimización Bayesiana en Progreso:  76%|███████▌  | 152/200 [02:18<01:17,  1.61s/it]"
     ]
    },
    {
     "name": "stdout",
     "output_type": "stream",
     "text": [
      "Total de iteraciones: 3893\n"
     ]
    },
    {
     "name": "stderr",
     "output_type": "stream",
     "text": [
      "Optimización Bayesiana en Progreso:  76%|███████▋  | 153/200 [02:20<01:16,  1.62s/it]"
     ]
    },
    {
     "name": "stdout",
     "output_type": "stream",
     "text": [
      "Total de iteraciones: 3901\n"
     ]
    },
    {
     "name": "stderr",
     "output_type": "stream",
     "text": [
      "Optimización Bayesiana en Progreso:  77%|███████▋  | 154/200 [02:21<01:15,  1.65s/it]"
     ]
    },
    {
     "name": "stdout",
     "output_type": "stream",
     "text": [
      "Total de iteraciones: 3751\n"
     ]
    },
    {
     "name": "stderr",
     "output_type": "stream",
     "text": [
      "Optimización Bayesiana en Progreso:  78%|███████▊  | 155/200 [02:23<01:14,  1.66s/it]"
     ]
    },
    {
     "name": "stdout",
     "output_type": "stream",
     "text": [
      "Total de iteraciones: 3504\n"
     ]
    },
    {
     "name": "stderr",
     "output_type": "stream",
     "text": [
      "Optimización Bayesiana en Progreso:  78%|███████▊  | 156/200 [02:25<01:14,  1.69s/it]"
     ]
    },
    {
     "name": "stdout",
     "output_type": "stream",
     "text": [
      "Total de iteraciones: 3785\n"
     ]
    },
    {
     "name": "stderr",
     "output_type": "stream",
     "text": [
      "Optimización Bayesiana en Progreso:  78%|███████▊  | 157/200 [02:27<01:13,  1.70s/it]"
     ]
    },
    {
     "name": "stdout",
     "output_type": "stream",
     "text": [
      "Total de iteraciones: 3613\n"
     ]
    },
    {
     "name": "stderr",
     "output_type": "stream",
     "text": [
      "Optimización Bayesiana en Progreso:  79%|███████▉  | 158/200 [02:28<01:12,  1.73s/it]"
     ]
    },
    {
     "name": "stdout",
     "output_type": "stream",
     "text": [
      "Total de iteraciones: 3949\n"
     ]
    },
    {
     "name": "stderr",
     "output_type": "stream",
     "text": [
      "Optimización Bayesiana en Progreso:  80%|███████▉  | 159/200 [02:30<01:11,  1.75s/it]"
     ]
    },
    {
     "name": "stdout",
     "output_type": "stream",
     "text": [
      "Total de iteraciones: 3861\n"
     ]
    },
    {
     "name": "stderr",
     "output_type": "stream",
     "text": [
      "Optimización Bayesiana en Progreso:  80%|████████  | 160/200 [02:32<01:10,  1.76s/it]"
     ]
    },
    {
     "name": "stdout",
     "output_type": "stream",
     "text": [
      "Total de iteraciones: 3155\n"
     ]
    },
    {
     "name": "stderr",
     "output_type": "stream",
     "text": [
      "Optimización Bayesiana en Progreso:  80%|████████  | 161/200 [02:34<01:09,  1.77s/it]"
     ]
    },
    {
     "name": "stdout",
     "output_type": "stream",
     "text": [
      "Total de iteraciones: 4202\n"
     ]
    },
    {
     "name": "stderr",
     "output_type": "stream",
     "text": [
      "Optimización Bayesiana en Progreso:  81%|████████  | 162/200 [02:36<01:07,  1.78s/it]"
     ]
    },
    {
     "name": "stdout",
     "output_type": "stream",
     "text": [
      "Total de iteraciones: 4014\n"
     ]
    },
    {
     "name": "stderr",
     "output_type": "stream",
     "text": [
      "Optimización Bayesiana en Progreso:  82%|████████▏ | 163/200 [02:38<01:10,  1.90s/it]"
     ]
    },
    {
     "name": "stdout",
     "output_type": "stream",
     "text": [
      "Total de iteraciones: 3997\n"
     ]
    },
    {
     "name": "stderr",
     "output_type": "stream",
     "text": [
      "Optimización Bayesiana en Progreso:  82%|████████▏ | 164/200 [02:40<01:08,  1.91s/it]"
     ]
    },
    {
     "name": "stdout",
     "output_type": "stream",
     "text": [
      "Total de iteraciones: 3907\n"
     ]
    },
    {
     "name": "stderr",
     "output_type": "stream",
     "text": [
      "Optimización Bayesiana en Progreso:  82%|████████▎ | 165/200 [02:42<01:06,  1.90s/it]"
     ]
    },
    {
     "name": "stdout",
     "output_type": "stream",
     "text": [
      "Total de iteraciones: 3988\n"
     ]
    },
    {
     "name": "stderr",
     "output_type": "stream",
     "text": [
      "Optimización Bayesiana en Progreso:  83%|████████▎ | 166/200 [02:44<01:05,  1.92s/it]"
     ]
    },
    {
     "name": "stdout",
     "output_type": "stream",
     "text": [
      "Total de iteraciones: 3629\n"
     ]
    },
    {
     "name": "stderr",
     "output_type": "stream",
     "text": [
      "Optimización Bayesiana en Progreso:  84%|████████▎ | 167/200 [02:45<01:03,  1.92s/it]"
     ]
    },
    {
     "name": "stdout",
     "output_type": "stream",
     "text": [
      "Total de iteraciones: 4095\n"
     ]
    },
    {
     "name": "stderr",
     "output_type": "stream",
     "text": [
      "Optimización Bayesiana en Progreso:  84%|████████▍ | 168/200 [02:47<01:01,  1.91s/it]"
     ]
    },
    {
     "name": "stdout",
     "output_type": "stream",
     "text": [
      "Total de iteraciones: 3789\n"
     ]
    },
    {
     "name": "stderr",
     "output_type": "stream",
     "text": [
      "Optimización Bayesiana en Progreso:  84%|████████▍ | 169/200 [02:49<00:59,  1.93s/it]"
     ]
    },
    {
     "name": "stdout",
     "output_type": "stream",
     "text": [
      "Total de iteraciones: 4156\n"
     ]
    },
    {
     "name": "stderr",
     "output_type": "stream",
     "text": [
      "Optimización Bayesiana en Progreso:  85%|████████▌ | 170/200 [02:52<01:00,  2.00s/it]"
     ]
    },
    {
     "name": "stdout",
     "output_type": "stream",
     "text": [
      "Total de iteraciones: 5060\n"
     ]
    },
    {
     "name": "stderr",
     "output_type": "stream",
     "text": [
      "Optimización Bayesiana en Progreso:  86%|████████▌ | 171/200 [02:54<00:58,  2.01s/it]"
     ]
    },
    {
     "name": "stdout",
     "output_type": "stream",
     "text": [
      "Total de iteraciones: 4095\n"
     ]
    },
    {
     "name": "stderr",
     "output_type": "stream",
     "text": [
      "Optimización Bayesiana en Progreso:  86%|████████▌ | 172/200 [02:56<00:56,  2.01s/it]"
     ]
    },
    {
     "name": "stdout",
     "output_type": "stream",
     "text": [
      "Total de iteraciones: 3248\n"
     ]
    },
    {
     "name": "stderr",
     "output_type": "stream",
     "text": [
      "Optimización Bayesiana en Progreso:  86%|████████▋ | 173/200 [02:58<00:53,  1.99s/it]"
     ]
    },
    {
     "name": "stdout",
     "output_type": "stream",
     "text": [
      "Total de iteraciones: 4114\n"
     ]
    },
    {
     "name": "stderr",
     "output_type": "stream",
     "text": [
      "Optimización Bayesiana en Progreso:  87%|████████▋ | 174/200 [03:00<00:52,  2.03s/it]"
     ]
    },
    {
     "name": "stdout",
     "output_type": "stream",
     "text": [
      "Total de iteraciones: 2932\n"
     ]
    },
    {
     "name": "stderr",
     "output_type": "stream",
     "text": [
      "Optimización Bayesiana en Progreso:  88%|████████▊ | 175/200 [03:02<00:51,  2.07s/it]"
     ]
    },
    {
     "name": "stdout",
     "output_type": "stream",
     "text": [
      "Total de iteraciones: 4082\n"
     ]
    },
    {
     "name": "stderr",
     "output_type": "stream",
     "text": [
      "Optimización Bayesiana en Progreso:  88%|████████▊ | 176/200 [03:04<00:50,  2.12s/it]"
     ]
    },
    {
     "name": "stdout",
     "output_type": "stream",
     "text": [
      "Total de iteraciones: 4119\n"
     ]
    },
    {
     "name": "stderr",
     "output_type": "stream",
     "text": [
      "Optimización Bayesiana en Progreso:  88%|████████▊ | 177/200 [03:06<00:49,  2.14s/it]"
     ]
    },
    {
     "name": "stdout",
     "output_type": "stream",
     "text": [
      "Total de iteraciones: 4502\n"
     ]
    },
    {
     "name": "stderr",
     "output_type": "stream",
     "text": [
      "Optimización Bayesiana en Progreso:  89%|████████▉ | 178/200 [03:08<00:47,  2.14s/it]"
     ]
    },
    {
     "name": "stdout",
     "output_type": "stream",
     "text": [
      "Total de iteraciones: 3472\n"
     ]
    },
    {
     "name": "stderr",
     "output_type": "stream",
     "text": [
      "Optimización Bayesiana en Progreso:  90%|████████▉ | 179/200 [03:10<00:44,  2.13s/it]"
     ]
    },
    {
     "name": "stdout",
     "output_type": "stream",
     "text": [
      "Total de iteraciones: 4280\n"
     ]
    },
    {
     "name": "stderr",
     "output_type": "stream",
     "text": [
      "Optimización Bayesiana en Progreso:  90%|█████████ | 180/200 [03:13<00:42,  2.15s/it]"
     ]
    },
    {
     "name": "stdout",
     "output_type": "stream",
     "text": [
      "Total de iteraciones: 4744\n"
     ]
    },
    {
     "name": "stderr",
     "output_type": "stream",
     "text": [
      "Optimización Bayesiana en Progreso:  90%|█████████ | 181/200 [03:15<00:40,  2.16s/it]"
     ]
    },
    {
     "name": "stdout",
     "output_type": "stream",
     "text": [
      "Total de iteraciones: 4448\n"
     ]
    },
    {
     "name": "stderr",
     "output_type": "stream",
     "text": [
      "Optimización Bayesiana en Progreso:  91%|█████████ | 182/200 [03:17<00:39,  2.19s/it]"
     ]
    },
    {
     "name": "stdout",
     "output_type": "stream",
     "text": [
      "Total de iteraciones: 2845\n"
     ]
    },
    {
     "name": "stderr",
     "output_type": "stream",
     "text": [
      "Optimización Bayesiana en Progreso:  92%|█████████▏| 183/200 [03:19<00:37,  2.20s/it]"
     ]
    },
    {
     "name": "stdout",
     "output_type": "stream",
     "text": [
      "Total de iteraciones: 2699\n"
     ]
    },
    {
     "name": "stderr",
     "output_type": "stream",
     "text": [
      "Optimización Bayesiana en Progreso:  92%|█████████▏| 184/200 [03:22<00:35,  2.24s/it]"
     ]
    },
    {
     "name": "stdout",
     "output_type": "stream",
     "text": [
      "Total de iteraciones: 5090\n"
     ]
    },
    {
     "name": "stderr",
     "output_type": "stream",
     "text": [
      "Optimización Bayesiana en Progreso:  92%|█████████▎| 185/200 [03:24<00:34,  2.27s/it]"
     ]
    },
    {
     "name": "stdout",
     "output_type": "stream",
     "text": [
      "Total de iteraciones: 4469\n"
     ]
    },
    {
     "name": "stderr",
     "output_type": "stream",
     "text": [
      "Optimización Bayesiana en Progreso:  93%|█████████▎| 186/200 [03:26<00:32,  2.29s/it]"
     ]
    },
    {
     "name": "stdout",
     "output_type": "stream",
     "text": [
      "Total de iteraciones: 4499\n"
     ]
    },
    {
     "name": "stderr",
     "output_type": "stream",
     "text": [
      "Optimización Bayesiana en Progreso:  94%|█████████▎| 187/200 [03:29<00:30,  2.34s/it]"
     ]
    },
    {
     "name": "stdout",
     "output_type": "stream",
     "text": [
      "Total de iteraciones: 4419\n"
     ]
    },
    {
     "name": "stderr",
     "output_type": "stream",
     "text": [
      "Optimización Bayesiana en Progreso:  94%|█████████▍| 188/200 [03:31<00:28,  2.40s/it]"
     ]
    },
    {
     "name": "stdout",
     "output_type": "stream",
     "text": [
      "Total de iteraciones: 4666\n"
     ]
    },
    {
     "name": "stderr",
     "output_type": "stream",
     "text": [
      "Optimización Bayesiana en Progreso:  94%|█████████▍| 189/200 [03:34<00:26,  2.39s/it]"
     ]
    },
    {
     "name": "stdout",
     "output_type": "stream",
     "text": [
      "Total de iteraciones: 5112\n",
      "🔹 Mejor error: 0.568650 con parámetros [0.038474248905858065, 0.07981286104485645, np.int64(80)]\n"
     ]
    },
    {
     "name": "stderr",
     "output_type": "stream",
     "text": [
      "Optimización Bayesiana en Progreso:  95%|█████████▌| 190/200 [03:36<00:24,  2.42s/it]"
     ]
    },
    {
     "name": "stdout",
     "output_type": "stream",
     "text": [
      "Total de iteraciones: 5379\n"
     ]
    },
    {
     "name": "stderr",
     "output_type": "stream",
     "text": [
      "Optimización Bayesiana en Progreso:  96%|█████████▌| 191/200 [03:39<00:21,  2.43s/it]"
     ]
    },
    {
     "name": "stdout",
     "output_type": "stream",
     "text": [
      "Total de iteraciones: 5146\n"
     ]
    },
    {
     "name": "stderr",
     "output_type": "stream",
     "text": [
      "Optimización Bayesiana en Progreso:  96%|█████████▌| 192/200 [03:41<00:19,  2.43s/it]"
     ]
    },
    {
     "name": "stdout",
     "output_type": "stream",
     "text": [
      "Total de iteraciones: 5482\n"
     ]
    },
    {
     "name": "stderr",
     "output_type": "stream",
     "text": [
      "Optimización Bayesiana en Progreso:  96%|█████████▋| 193/200 [03:43<00:16,  2.42s/it]"
     ]
    },
    {
     "name": "stdout",
     "output_type": "stream",
     "text": [
      "Total de iteraciones: 5448\n"
     ]
    },
    {
     "name": "stderr",
     "output_type": "stream",
     "text": [
      "Optimización Bayesiana en Progreso:  97%|█████████▋| 194/200 [03:46<00:14,  2.47s/it]"
     ]
    },
    {
     "name": "stdout",
     "output_type": "stream",
     "text": [
      "Total de iteraciones: 5145\n"
     ]
    },
    {
     "name": "stderr",
     "output_type": "stream",
     "text": [
      "Optimización Bayesiana en Progreso:  98%|█████████▊| 195/200 [03:49<00:12,  2.49s/it]"
     ]
    },
    {
     "name": "stdout",
     "output_type": "stream",
     "text": [
      "Total de iteraciones: 5184\n"
     ]
    },
    {
     "name": "stderr",
     "output_type": "stream",
     "text": [
      "Optimización Bayesiana en Progreso:  98%|█████████▊| 196/200 [03:51<00:09,  2.47s/it]"
     ]
    },
    {
     "name": "stdout",
     "output_type": "stream",
     "text": [
      "Total de iteraciones: 5781\n"
     ]
    },
    {
     "name": "stderr",
     "output_type": "stream",
     "text": [
      "Optimización Bayesiana en Progreso:  98%|█████████▊| 197/200 [03:54<00:07,  2.48s/it]"
     ]
    },
    {
     "name": "stdout",
     "output_type": "stream",
     "text": [
      "Total de iteraciones: 133\n"
     ]
    },
    {
     "name": "stderr",
     "output_type": "stream",
     "text": [
      "Optimización Bayesiana en Progreso:  99%|█████████▉| 198/200 [03:56<00:04,  2.49s/it]"
     ]
    },
    {
     "name": "stdout",
     "output_type": "stream",
     "text": [
      "Total de iteraciones: 5039\n",
      "🔹 Mejor error: 0.552269 con parámetros [0.04119975249978505, 0.08212402789051025, np.int64(79)]\n"
     ]
    },
    {
     "name": "stderr",
     "output_type": "stream",
     "text": [
      "Optimización Bayesiana en Progreso:  99%|█████████▉| 198/200 [03:59<00:02,  1.21s/it]"
     ]
    },
    {
     "name": "stdout",
     "output_type": "stream",
     "text": [
      "\n",
      "✅ Optimización completada\n",
      "🔹 Parámetros óptimos: [0.04119975249978505, 0.08212402789051025, np.int64(79)]\n",
      "🔹 Error mínimo encontrado: 0.552269\n",
      "⏳ Tiempo total de ejecución: 239.05 segundos\n"
     ]
    },
    {
     "name": "stderr",
     "output_type": "stream",
     "text": [
      "\n"
     ]
    }
   ],
   "source": [
    "model_class = KineticMonteCarlo\n",
    "exp_data = data.iloc[8]\n",
    "time_array = np.array([0,1,3,6,9,12,20,40,60])\n",
    "space = [\n",
    "    Real(0, 0.4, name=\"e_ads\"),\n",
    "    Real(0, 0.4, name=\"e_int_abs\"),\n",
    "    Integer(60, 100, name=\"lattice_size\")\n",
    "]\n",
    "n_calls = 200\n",
    "random_state = 42\n",
    "\n",
    "# Crear una instancia de la clase BayesianOptimization\n",
    "bayes_opt = BayesianOptimization(model_class=model_class, exp_data=exp_data, time_array=time_array, space=space, n_calls=n_calls, random_state=random_state)\n",
    "\n",
    "# Ejecutar la optimización\n",
    "bayes_opt.optimize()"
   ]
  },
  {
   "cell_type": "code",
   "execution_count": 290,
   "metadata": {},
   "outputs": [
    {
     "name": "stdout",
     "output_type": "stream",
     "text": [
      "Total de iteraciones: 4400\n"
     ]
    },
    {
     "data": {
      "text/plain": [
       "Text(0.5, 0, 'Tiempo (s)')"
      ]
     },
     "execution_count": 290,
     "metadata": {},
     "output_type": "execute_result"
    },
    {
     "data": {
      "image/png": "[encoded data removed]",
      "text/plain": [
       "<Figure size 640x480 with 1 Axes>"
      ]
     },
     "metadata": {},
     "output_type": "display_data"
    }
   ],
   "source": [
    "bayes_opt.best_params\n",
    "\n",
    "e_ads, e_int_abs, lattice_size = bayes_opt.best_params\n",
    "kmc_model = KineticMonteCarlo(lattice_size=lattice_size, e_ads=e_ads, e_int_abs=e_int_abs, time_factor=1e-7, time_array=time_array)\n",
    "kmc_model.run_simulation()\n",
    "\n",
    "simulated_data = np.array(list(kmc_model.occupancy.values()))\n",
    "plt.plot(time_array, exp_data, label=\"Datos experimentales\", marker=\"o\", linestyle=\"--\")\n",
    "plt.plot(time_array, simulated_data, label=\"Datos simulados\", marker=\"o\")\n",
    "plt.xlabel(\"Tiempo (s)\")\n"
   ]
  },
  {
   "cell_type": "code",
   "execution_count": 291,
   "metadata": {},
   "outputs": [
    {
     "name": "stdout",
     "output_type": "stream",
     "text": [
      "Total de iteraciones: 4731\n",
      "Total de iteraciones: 5147\n",
      "Total de iteraciones: 5079\n",
      "Total de iteraciones: 4906\n",
      "Total de iteraciones: 4562\n",
      "Total de iteraciones: 4581\n",
      "Total de iteraciones: 4800\n",
      "Total de iteraciones: 4994\n",
      "Total de iteraciones: 4869\n",
      "Total de iteraciones: 4661\n",
      "Total de iteraciones: 4671\n",
      "Total de iteraciones: 4800\n",
      "Total de iteraciones: 4542\n",
      "Total de iteraciones: 4629\n",
      "Total de iteraciones: 4613\n",
      "Total de iteraciones: 4795\n",
      "Total de iteraciones: 4937\n",
      "Total de iteraciones: 4650\n",
      "Total de iteraciones: 4722\n",
      "Total de iteraciones: 4823\n",
      "Total de iteraciones: 4574\n",
      "Total de iteraciones: 5048\n",
      "Total de iteraciones: 4717\n",
      "Total de iteraciones: 4826\n",
      "Total de iteraciones: 4659\n",
      "Total de iteraciones: 4469\n",
      "Total de iteraciones: 4536\n",
      "Total de iteraciones: 4772\n",
      "Total de iteraciones: 5039\n",
      "Total de iteraciones: 5002\n",
      "Total de iteraciones: 4609\n",
      "Total de iteraciones: 4773\n",
      "Total de iteraciones: 4381\n",
      "Total de iteraciones: 4815\n",
      "Total de iteraciones: 5083\n",
      "Total de iteraciones: 4553\n",
      "Total de iteraciones: 4793\n",
      "Total de iteraciones: 4510\n",
      "Total de iteraciones: 4562\n",
      "Total de iteraciones: 4739\n",
      "Total de iteraciones: 4928\n",
      "Total de iteraciones: 4922\n",
      "Total de iteraciones: 4580\n",
      "Total de iteraciones: 5041\n",
      "Total de iteraciones: 4758\n",
      "Total de iteraciones: 4869\n",
      "Total de iteraciones: 4860\n",
      "Total de iteraciones: 4824\n",
      "Total de iteraciones: 4594\n",
      "Total de iteraciones: 4715\n",
      "Total de iteraciones: 4849\n",
      "Total de iteraciones: 4561\n",
      "Total de iteraciones: 4725\n",
      "Total de iteraciones: 4716\n",
      "Total de iteraciones: 4617\n",
      "Total de iteraciones: 4752\n",
      "Total de iteraciones: 4758\n",
      "Total de iteraciones: 4651\n",
      "Total de iteraciones: 4801\n",
      "Total de iteraciones: 4753\n",
      "Total de iteraciones: 4779\n",
      "Total de iteraciones: 4675\n",
      "Total de iteraciones: 4781\n",
      "Total de iteraciones: 4738\n",
      "Total de iteraciones: 4903\n",
      "Total de iteraciones: 4580\n",
      "Total de iteraciones: 4699\n",
      "Total de iteraciones: 4683\n",
      "Total de iteraciones: 4452\n",
      "Total de iteraciones: 4582\n",
      "Total de iteraciones: 4491\n",
      "Total de iteraciones: 4557\n",
      "Total de iteraciones: 4702\n",
      "Total de iteraciones: 4955\n",
      "Total de iteraciones: 4709\n",
      "Total de iteraciones: 4592\n",
      "Total de iteraciones: 5014\n",
      "Total de iteraciones: 5029\n",
      "Total de iteraciones: 4776\n",
      "Total de iteraciones: 4863\n",
      "Total de iteraciones: 4520\n",
      "Total de iteraciones: 4897\n",
      "Total de iteraciones: 4964\n",
      "Total de iteraciones: 4978\n",
      "Total de iteraciones: 4699\n",
      "Total de iteraciones: 5011\n",
      "Total de iteraciones: 4775\n",
      "Total de iteraciones: 4576\n",
      "Total de iteraciones: 4430\n",
      "Total de iteraciones: 4792\n",
      "Total de iteraciones: 4613\n",
      "Total de iteraciones: 4800\n",
      "Total de iteraciones: 4864\n",
      "Total de iteraciones: 4484\n",
      "Total de iteraciones: 4762\n",
      "Total de iteraciones: 4439\n",
      "Total de iteraciones: 4708\n",
      "Total de iteraciones: 4601\n",
      "Total de iteraciones: 4299\n",
      "Total de iteraciones: 5034\n",
      "Total de iteraciones: 4558\n",
      "Total de iteraciones: 4646\n",
      "Total de iteraciones: 5158\n",
      "Total de iteraciones: 5154\n",
      "Total de iteraciones: 4705\n",
      "Total de iteraciones: 4937\n",
      "Total de iteraciones: 4671\n",
      "Total de iteraciones: 4618\n",
      "Total de iteraciones: 4829\n",
      "Total de iteraciones: 4552\n",
      "Total de iteraciones: 4798\n",
      "Total de iteraciones: 4687\n",
      "Total de iteraciones: 4666\n",
      "Total de iteraciones: 4773\n",
      "Total de iteraciones: 5020\n",
      "Total de iteraciones: 4679\n",
      "Total de iteraciones: 4885\n",
      "Total de iteraciones: 4851\n",
      "Total de iteraciones: 4766\n",
      "Total de iteraciones: 4814\n",
      "Total de iteraciones: 4913\n",
      "Total de iteraciones: 4763\n",
      "Total de iteraciones: 4652\n",
      "Total de iteraciones: 4941\n",
      "Total de iteraciones: 4759\n",
      "Total de iteraciones: 4846\n",
      "Total de iteraciones: 4845\n",
      "Total de iteraciones: 4897\n",
      "Total de iteraciones: 4980\n",
      "Total de iteraciones: 4402\n",
      "Total de iteraciones: 4895\n",
      "Total de iteraciones: 4834\n",
      "Total de iteraciones: 4964\n",
      "Total de iteraciones: 4685\n",
      "Total de iteraciones: 4506\n",
      "Total de iteraciones: 4950\n",
      "Total de iteraciones: 4667\n",
      "Total de iteraciones: 5022\n",
      "Total de iteraciones: 4570\n",
      "Total de iteraciones: 4552\n",
      "Total de iteraciones: 4898\n",
      "Total de iteraciones: 4503\n",
      "Total de iteraciones: 4641\n",
      "Total de iteraciones: 4890\n",
      "Total de iteraciones: 4855\n",
      "Total de iteraciones: 4826\n",
      "Total de iteraciones: 4873\n",
      "Total de iteraciones: 4781\n",
      "Total de iteraciones: 4679\n",
      "Total de iteraciones: 4603\n",
      "Total de iteraciones: 4638\n",
      "Total de iteraciones: 5076\n",
      "Total de iteraciones: 4749\n",
      "Total de iteraciones: 4809\n",
      "Total de iteraciones: 4466\n",
      "Total de iteraciones: 5129\n",
      "Total de iteraciones: 4659\n",
      "Total de iteraciones: 4897\n",
      "Total de iteraciones: 4547\n",
      "Total de iteraciones: 4979\n",
      "Total de iteraciones: 4924\n",
      "Total de iteraciones: 4836\n",
      "Total de iteraciones: 4684\n",
      "Total de iteraciones: 5033\n",
      "Total de iteraciones: 4582\n",
      "Total de iteraciones: 4673\n",
      "Total de iteraciones: 4880\n",
      "Total de iteraciones: 4765\n",
      "Total de iteraciones: 4430\n",
      "Total de iteraciones: 4760\n",
      "Total de iteraciones: 4699\n",
      "Total de iteraciones: 4699\n",
      "Total de iteraciones: 4708\n",
      "Total de iteraciones: 4416\n",
      "Total de iteraciones: 4566\n",
      "Total de iteraciones: 4863\n",
      "Total de iteraciones: 4972\n",
      "Total de iteraciones: 4924\n",
      "Total de iteraciones: 5067\n",
      "Total de iteraciones: 4601\n",
      "Total de iteraciones: 4370\n",
      "Total de iteraciones: 4904\n",
      "Total de iteraciones: 4688\n",
      "Total de iteraciones: 4742\n",
      "Total de iteraciones: 4668\n",
      "Total de iteraciones: 4483\n",
      "Total de iteraciones: 4575\n",
      "Total de iteraciones: 4919\n",
      "Total de iteraciones: 4924\n",
      "Total de iteraciones: 4948\n",
      "Total de iteraciones: 4658\n",
      "Total de iteraciones: 4761\n",
      "Total de iteraciones: 4912\n",
      "Total de iteraciones: 4437\n",
      "Total de iteraciones: 4492\n",
      "Total de iteraciones: 4856\n",
      "Total de iteraciones: 4535\n",
      "Total de iteraciones: 4596\n",
      "Total de iteraciones: 4748\n",
      "Total de iteraciones: 5084\n",
      "Total de iteraciones: 4699\n",
      "Total de iteraciones: 4845\n",
      "Total de iteraciones: 5116\n",
      "Total de iteraciones: 4842\n",
      "Total de iteraciones: 4729\n",
      "Total de iteraciones: 4693\n",
      "Total de iteraciones: 4675\n",
      "Total de iteraciones: 4624\n",
      "Total de iteraciones: 4883\n",
      "Total de iteraciones: 4732\n",
      "Total de iteraciones: 4486\n",
      "Total de iteraciones: 4895\n",
      "Total de iteraciones: 4856\n",
      "Total de iteraciones: 4827\n",
      "Total de iteraciones: 4800\n",
      "Total de iteraciones: 4659\n",
      "Total de iteraciones: 4673\n",
      "Total de iteraciones: 4627\n",
      "Total de iteraciones: 4725\n",
      "Total de iteraciones: 4455\n",
      "Total de iteraciones: 4698\n",
      "Total de iteraciones: 4556\n",
      "Total de iteraciones: 4541\n",
      "Total de iteraciones: 4980\n",
      "Total de iteraciones: 4631\n",
      "Total de iteraciones: 4745\n",
      "Total de iteraciones: 4985\n",
      "Total de iteraciones: 4630\n",
      "Total de iteraciones: 4822\n",
      "Total de iteraciones: 4662\n",
      "Total de iteraciones: 4796\n",
      "Total de iteraciones: 4839\n",
      "Total de iteraciones: 4894\n",
      "Total de iteraciones: 4701\n",
      "Total de iteraciones: 4602\n",
      "Total de iteraciones: 4344\n",
      "Total de iteraciones: 4590\n",
      "Total de iteraciones: 4826\n",
      "Total de iteraciones: 4810\n",
      "Total de iteraciones: 4751\n",
      "Total de iteraciones: 4760\n",
      "Total de iteraciones: 4876\n",
      "Total de iteraciones: 4827\n",
      "Total de iteraciones: 4990\n",
      "Total de iteraciones: 4859\n",
      "Total de iteraciones: 4698\n",
      "Total de iteraciones: 4778\n",
      "Total de iteraciones: 4825\n",
      "Total de iteraciones: 4655\n",
      "Total de iteraciones: 4761\n",
      "Total de iteraciones: 4732\n",
      "Total de iteraciones: 4821\n",
      "Total de iteraciones: 4770\n",
      "Total de iteraciones: 5038\n",
      "Total de iteraciones: 4473\n",
      "Total de iteraciones: 4657\n",
      "Total de iteraciones: 4695\n",
      "Total de iteraciones: 4725\n",
      "Total de iteraciones: 4446\n",
      "Total de iteraciones: 4786\n",
      "Total de iteraciones: 4676\n",
      "Total de iteraciones: 4736\n",
      "Total de iteraciones: 4535\n",
      "Total de iteraciones: 4898\n",
      "Total de iteraciones: 4394\n",
      "Total de iteraciones: 4832\n",
      "Total de iteraciones: 4556\n",
      "Total de iteraciones: 4695\n",
      "Total de iteraciones: 4695\n",
      "Total de iteraciones: 4871\n",
      "Total de iteraciones: 4844\n",
      "Total de iteraciones: 4783\n",
      "Total de iteraciones: 4860\n",
      "Total de iteraciones: 4793\n",
      "Total de iteraciones: 4606\n",
      "Total de iteraciones: 4584\n",
      "Total de iteraciones: 4958\n",
      "Total de iteraciones: 4754\n",
      "Total de iteraciones: 4742\n",
      "Total de iteraciones: 4920\n",
      "Total de iteraciones: 5321\n",
      "Total de iteraciones: 4445\n",
      "Total de iteraciones: 4729\n",
      "Total de iteraciones: 4764\n",
      "Total de iteraciones: 5013\n",
      "Total de iteraciones: 4549\n",
      "Total de iteraciones: 4800\n",
      "Total de iteraciones: 4372\n",
      "Total de iteraciones: 4704\n",
      "Total de iteraciones: 5001\n",
      "Total de iteraciones: 4841\n",
      "Total de iteraciones: 4745\n",
      "Total de iteraciones: 4837\n",
      "Total de iteraciones: 4676\n",
      "Total de iteraciones: 4655\n",
      "Total de iteraciones: 4856\n",
      "Total de iteraciones: 4588\n",
      "Total de iteraciones: 4808\n",
      "Total de iteraciones: 4854\n",
      "Total de iteraciones: 4379\n",
      "Total de iteraciones: 4970\n",
      "Total de iteraciones: 4836\n",
      "Total de iteraciones: 4850\n",
      "Total de iteraciones: 4589\n",
      "Total de iteraciones: 5013\n",
      "Total de iteraciones: 4560\n",
      "Total de iteraciones: 4802\n",
      "Total de iteraciones: 5112\n",
      "Total de iteraciones: 4792\n",
      "Total de iteraciones: 5023\n",
      "Total de iteraciones: 4638\n",
      "Total de iteraciones: 4638\n",
      "Total de iteraciones: 4640\n",
      "Total de iteraciones: 4583\n",
      "Total de iteraciones: 4651\n",
      "Total de iteraciones: 4771\n",
      "Total de iteraciones: 4587\n",
      "Total de iteraciones: 4797\n",
      "Total de iteraciones: 4745\n",
      "Total de iteraciones: 4762\n",
      "Total de iteraciones: 4699\n",
      "Total de iteraciones: 4575\n",
      "Total de iteraciones: 4765\n",
      "Total de iteraciones: 4709\n",
      "Total de iteraciones: 4758\n",
      "Total de iteraciones: 4806\n",
      "Total de iteraciones: 4789\n",
      "Total de iteraciones: 4540\n",
      "Total de iteraciones: 4817\n",
      "Total de iteraciones: 5004\n",
      "Total de iteraciones: 4684\n",
      "Total de iteraciones: 4700\n",
      "Total de iteraciones: 4958\n",
      "Total de iteraciones: 4781\n",
      "Total de iteraciones: 4657\n",
      "Total de iteraciones: 4713\n",
      "Total de iteraciones: 4882\n",
      "Total de iteraciones: 4754\n",
      "Total de iteraciones: 4632\n",
      "Total de iteraciones: 4891\n",
      "Total de iteraciones: 4562\n",
      "Total de iteraciones: 4773\n",
      "Total de iteraciones: 4750\n",
      "Total de iteraciones: 4589\n",
      "Total de iteraciones: 4588\n",
      "Total de iteraciones: 4736\n",
      "Total de iteraciones: 4641\n",
      "Total de iteraciones: 4646\n",
      "Total de iteraciones: 4561\n",
      "Total de iteraciones: 4980\n",
      "Total de iteraciones: 4829\n",
      "Total de iteraciones: 4635\n",
      "Total de iteraciones: 4781\n",
      "Total de iteraciones: 4591\n",
      "Total de iteraciones: 4839\n",
      "Total de iteraciones: 4956\n",
      "Total de iteraciones: 4768\n",
      "Total de iteraciones: 4866\n",
      "Total de iteraciones: 4889\n",
      "Total de iteraciones: 4990\n",
      "Total de iteraciones: 4616\n",
      "Total de iteraciones: 4713\n",
      "Total de iteraciones: 4936\n",
      "Total de iteraciones: 4794\n",
      "Total de iteraciones: 4598\n",
      "Total de iteraciones: 4685\n",
      "Total de iteraciones: 4914\n",
      "Total de iteraciones: 4781\n",
      "Total de iteraciones: 4711\n",
      "Total de iteraciones: 4540\n",
      "Total de iteraciones: 4643\n",
      "Total de iteraciones: 4722\n",
      "Total de iteraciones: 4774\n",
      "Total de iteraciones: 4794\n",
      "Total de iteraciones: 4625\n",
      "Total de iteraciones: 4715\n",
      "Total de iteraciones: 4869\n",
      "Total de iteraciones: 4934\n",
      "Total de iteraciones: 4284\n",
      "Total de iteraciones: 4688\n",
      "Total de iteraciones: 4883\n",
      "Total de iteraciones: 4591\n",
      "Total de iteraciones: 4702\n",
      "Total de iteraciones: 4644\n",
      "Total de iteraciones: 4568\n",
      "Total de iteraciones: 4887\n",
      "Total de iteraciones: 4943\n",
      "Total de iteraciones: 5017\n",
      "Total de iteraciones: 4479\n",
      "Total de iteraciones: 4770\n",
      "Total de iteraciones: 4866\n",
      "Total de iteraciones: 4357\n",
      "Total de iteraciones: 4525\n",
      "Total de iteraciones: 4773\n",
      "Total de iteraciones: 4519\n",
      "Total de iteraciones: 4834\n",
      "Total de iteraciones: 4575\n",
      "Total de iteraciones: 4896\n",
      "Total de iteraciones: 4771\n",
      "Total de iteraciones: 4793\n",
      "Total de iteraciones: 4970\n",
      "Total de iteraciones: 4860\n",
      "Total de iteraciones: 4753\n",
      "Total de iteraciones: 4774\n",
      "Total de iteraciones: 5090\n",
      "Total de iteraciones: 4802\n",
      "Total de iteraciones: 5093\n",
      "Total de iteraciones: 4667\n",
      "Total de iteraciones: 4573\n",
      "Total de iteraciones: 5116\n",
      "Total de iteraciones: 4748\n",
      "Total de iteraciones: 4397\n",
      "Total de iteraciones: 4599\n",
      "Total de iteraciones: 4744\n",
      "Total de iteraciones: 4756\n",
      "Total de iteraciones: 4652\n",
      "Total de iteraciones: 4453\n",
      "Total de iteraciones: 4872\n",
      "Total de iteraciones: 5091\n",
      "Total de iteraciones: 4775\n",
      "Total de iteraciones: 4892\n",
      "Total de iteraciones: 4548\n",
      "Total de iteraciones: 4433\n",
      "Total de iteraciones: 4563\n",
      "Total de iteraciones: 5001\n",
      "Total de iteraciones: 4768\n",
      "Total de iteraciones: 4711\n",
      "Total de iteraciones: 5041\n",
      "Total de iteraciones: 4779\n",
      "Total de iteraciones: 4955\n",
      "Total de iteraciones: 4915\n",
      "Total de iteraciones: 4699\n",
      "Total de iteraciones: 4732\n",
      "Total de iteraciones: 4870\n",
      "Total de iteraciones: 4456\n",
      "Total de iteraciones: 4900\n",
      "Total de iteraciones: 5050\n",
      "Total de iteraciones: 4720\n",
      "Total de iteraciones: 4529\n",
      "Total de iteraciones: 4786\n",
      "Total de iteraciones: 4757\n",
      "Total de iteraciones: 4246\n",
      "Total de iteraciones: 4485\n",
      "Total de iteraciones: 4912\n",
      "Total de iteraciones: 4858\n",
      "Total de iteraciones: 4743\n",
      "Total de iteraciones: 4775\n",
      "Total de iteraciones: 4754\n",
      "Total de iteraciones: 4781\n",
      "Total de iteraciones: 4841\n",
      "Total de iteraciones: 4581\n",
      "Total de iteraciones: 4716\n",
      "Total de iteraciones: 4805\n",
      "Total de iteraciones: 4918\n",
      "Total de iteraciones: 4518\n",
      "Total de iteraciones: 4578\n",
      "Total de iteraciones: 4855\n",
      "Total de iteraciones: 4833\n",
      "Total de iteraciones: 4599\n",
      "Total de iteraciones: 4738\n",
      "Total de iteraciones: 4803\n",
      "Total de iteraciones: 4959\n",
      "Total de iteraciones: 4814\n",
      "Total de iteraciones: 4870\n",
      "Total de iteraciones: 4756\n",
      "Total de iteraciones: 4664\n",
      "Total de iteraciones: 4782\n",
      "Total de iteraciones: 4669\n",
      "Total de iteraciones: 4764\n",
      "Total de iteraciones: 4711\n",
      "Total de iteraciones: 5031\n",
      "Total de iteraciones: 4576\n",
      "Total de iteraciones: 5026\n",
      "Total de iteraciones: 4646\n",
      "Total de iteraciones: 4932\n",
      "Total de iteraciones: 4847\n",
      "Total de iteraciones: 4749\n",
      "Total de iteraciones: 4667\n",
      "Total de iteraciones: 4761\n",
      "Total de iteraciones: 4585\n",
      "Total de iteraciones: 5058\n",
      "Total de iteraciones: 4755\n",
      "Total de iteraciones: 4664\n",
      "Total de iteraciones: 4849\n",
      "Total de iteraciones: 4734\n",
      "Total de iteraciones: 4620\n",
      "Total de iteraciones: 4737\n",
      "Total de iteraciones: 5005\n",
      "Total de iteraciones: 4527\n",
      "Total de iteraciones: 4711\n",
      "Total de iteraciones: 4726\n",
      "Total de iteraciones: 4275\n",
      "Total de iteraciones: 4628\n",
      "Total de iteraciones: 4899\n",
      "Total de iteraciones: 4750\n",
      "Total de iteraciones: 5044\n",
      "Total de iteraciones: 4749\n",
      "Total de iteraciones: 4770\n",
      "Total de iteraciones: 4417\n",
      "Total de iteraciones: 4638\n",
      "Total de iteraciones: 4707\n",
      "Total de iteraciones: 5059\n",
      "Total de iteraciones: 4600\n",
      "Total de iteraciones: 5066\n",
      "Total de iteraciones: 4779\n",
      "Total de iteraciones: 4780\n",
      "Total de iteraciones: 4819\n",
      "Total de iteraciones: 4416\n",
      "Total de iteraciones: 4758\n",
      "Total de iteraciones: 5037\n",
      "Total de iteraciones: 4646\n",
      "Total de iteraciones: 4748\n",
      "Total de iteraciones: 4709\n",
      "Total de iteraciones: 4716\n",
      "Total de iteraciones: 4472\n",
      "Total de iteraciones: 4772\n",
      "Total de iteraciones: 4424\n",
      "Total de iteraciones: 4901\n",
      "Total de iteraciones: 4885\n",
      "Total de iteraciones: 4938\n",
      "Total de iteraciones: 4836\n",
      "Total de iteraciones: 4783\n",
      "Total de iteraciones: 4877\n",
      "Total de iteraciones: 4725\n",
      "Total de iteraciones: 4785\n",
      "Total de iteraciones: 4760\n",
      "Total de iteraciones: 4947\n",
      "Total de iteraciones: 4907\n",
      "Total de iteraciones: 4683\n",
      "Total de iteraciones: 4572\n",
      "Total de iteraciones: 4615\n",
      "Total de iteraciones: 4603\n",
      "Total de iteraciones: 4510\n",
      "Total de iteraciones: 4991\n",
      "Total de iteraciones: 4861\n",
      "Total de iteraciones: 4590\n",
      "Total de iteraciones: 4908\n",
      "Total de iteraciones: 4583\n",
      "Total de iteraciones: 4808\n",
      "Total de iteraciones: 4841\n",
      "Total de iteraciones: 4959\n",
      "Total de iteraciones: 4660\n",
      "Total de iteraciones: 4719\n",
      "Total de iteraciones: 4937\n",
      "Total de iteraciones: 4670\n",
      "Total de iteraciones: 4531\n",
      "Total de iteraciones: 5295\n",
      "Total de iteraciones: 5090\n",
      "Total de iteraciones: 4702\n",
      "Total de iteraciones: 4688\n",
      "Total de iteraciones: 4896\n",
      "Total de iteraciones: 5014\n",
      "Total de iteraciones: 4653\n",
      "Total de iteraciones: 4995\n",
      "Total de iteraciones: 4420\n",
      "Total de iteraciones: 5093\n",
      "Total de iteraciones: 4666\n",
      "Total de iteraciones: 4707\n",
      "Total de iteraciones: 4628\n",
      "Total de iteraciones: 4926\n",
      "Total de iteraciones: 4465\n",
      "Total de iteraciones: 4819\n",
      "Total de iteraciones: 4615\n",
      "Total de iteraciones: 4851\n",
      "Total de iteraciones: 4813\n",
      "Total de iteraciones: 4651\n",
      "Total de iteraciones: 4822\n",
      "Total de iteraciones: 4478\n",
      "Total de iteraciones: 4858\n",
      "Total de iteraciones: 4929\n",
      "Total de iteraciones: 4680\n",
      "Total de iteraciones: 4844\n",
      "Total de iteraciones: 4720\n",
      "Total de iteraciones: 4487\n",
      "Total de iteraciones: 4676\n",
      "Total de iteraciones: 4811\n",
      "Total de iteraciones: 4685\n",
      "Total de iteraciones: 4498\n",
      "Total de iteraciones: 4503\n",
      "Total de iteraciones: 5018\n",
      "Total de iteraciones: 4738\n",
      "Total de iteraciones: 4922\n",
      "Total de iteraciones: 4651\n",
      "Total de iteraciones: 4715\n",
      "Total de iteraciones: 4589\n",
      "Total de iteraciones: 4855\n",
      "Total de iteraciones: 4733\n",
      "Total de iteraciones: 4811\n",
      "Total de iteraciones: 4625\n",
      "Total de iteraciones: 4746\n",
      "Total de iteraciones: 4760\n",
      "Total de iteraciones: 4652\n",
      "Total de iteraciones: 4978\n",
      "Total de iteraciones: 4819\n",
      "Total de iteraciones: 4805\n",
      "Total de iteraciones: 4834\n",
      "Total de iteraciones: 4508\n",
      "Total de iteraciones: 4873\n",
      "Total de iteraciones: 4982\n",
      "Total de iteraciones: 4812\n",
      "Total de iteraciones: 4727\n",
      "Total de iteraciones: 4506\n",
      "Total de iteraciones: 4552\n",
      "Total de iteraciones: 4711\n",
      "Total de iteraciones: 5229\n",
      "Total de iteraciones: 4855\n",
      "Total de iteraciones: 4961\n",
      "Total de iteraciones: 4625\n",
      "Total de iteraciones: 4819\n",
      "Total de iteraciones: 4566\n",
      "Total de iteraciones: 4971\n",
      "Total de iteraciones: 4598\n",
      "Total de iteraciones: 4852\n",
      "Total de iteraciones: 4855\n",
      "Total de iteraciones: 4870\n",
      "Total de iteraciones: 4876\n",
      "Total de iteraciones: 4967\n",
      "Total de iteraciones: 4595\n",
      "Total de iteraciones: 4865\n",
      "Total de iteraciones: 4667\n",
      "Total de iteraciones: 4809\n",
      "Total de iteraciones: 4710\n",
      "Total de iteraciones: 4701\n",
      "Total de iteraciones: 4611\n",
      "Total de iteraciones: 4699\n",
      "Total de iteraciones: 4843\n",
      "Total de iteraciones: 4700\n",
      "Total de iteraciones: 4656\n",
      "Total de iteraciones: 4772\n",
      "Total de iteraciones: 4589\n",
      "Total de iteraciones: 4677\n",
      "Total de iteraciones: 4649\n",
      "Total de iteraciones: 4637\n",
      "Total de iteraciones: 4874\n",
      "Total de iteraciones: 4716\n",
      "Total de iteraciones: 4572\n",
      "Total de iteraciones: 4599\n",
      "Total de iteraciones: 4448\n",
      "Total de iteraciones: 4715\n",
      "Total de iteraciones: 4830\n",
      "Total de iteraciones: 4987\n",
      "Total de iteraciones: 4690\n",
      "Total de iteraciones: 4956\n",
      "Total de iteraciones: 4867\n",
      "Total de iteraciones: 4871\n",
      "Total de iteraciones: 4852\n",
      "Total de iteraciones: 4582\n",
      "Total de iteraciones: 4642\n",
      "Total de iteraciones: 5076\n",
      "Total de iteraciones: 4798\n",
      "Total de iteraciones: 4716\n",
      "Total de iteraciones: 4599\n",
      "Total de iteraciones: 4831\n",
      "Total de iteraciones: 4735\n",
      "Total de iteraciones: 4734\n",
      "Total de iteraciones: 4444\n",
      "Total de iteraciones: 4409\n",
      "Total de iteraciones: 4688\n",
      "Total de iteraciones: 4636\n",
      "Total de iteraciones: 4890\n",
      "Total de iteraciones: 4558\n",
      "Total de iteraciones: 4681\n",
      "Total de iteraciones: 4867\n",
      "Total de iteraciones: 4920\n",
      "Total de iteraciones: 4900\n",
      "Total de iteraciones: 4677\n",
      "Total de iteraciones: 4691\n",
      "Total de iteraciones: 4514\n",
      "Total de iteraciones: 5043\n",
      "Total de iteraciones: 4418\n",
      "Total de iteraciones: 4785\n",
      "Total de iteraciones: 4744\n",
      "Total de iteraciones: 4858\n",
      "Total de iteraciones: 4871\n",
      "Total de iteraciones: 4811\n",
      "Total de iteraciones: 4631\n",
      "Total de iteraciones: 4873\n",
      "Total de iteraciones: 4999\n",
      "Total de iteraciones: 4730\n",
      "Total de iteraciones: 4912\n",
      "Total de iteraciones: 4466\n",
      "Total de iteraciones: 5094\n",
      "Total de iteraciones: 4883\n",
      "Total de iteraciones: 4899\n",
      "Total de iteraciones: 4763\n",
      "Total de iteraciones: 4874\n",
      "Total de iteraciones: 4590\n",
      "Total de iteraciones: 5283\n",
      "Total de iteraciones: 4670\n",
      "Total de iteraciones: 4913\n",
      "Total de iteraciones: 4752\n",
      "Total de iteraciones: 4728\n",
      "Total de iteraciones: 4706\n",
      "Total de iteraciones: 4756\n",
      "Total de iteraciones: 4523\n",
      "Total de iteraciones: 4753\n",
      "Total de iteraciones: 4869\n",
      "Total de iteraciones: 4716\n",
      "Total de iteraciones: 4473\n",
      "Total de iteraciones: 4871\n",
      "Total de iteraciones: 4631\n",
      "Total de iteraciones: 4990\n",
      "Total de iteraciones: 4914\n",
      "Total de iteraciones: 4496\n",
      "Total de iteraciones: 4668\n",
      "Total de iteraciones: 4782\n",
      "Total de iteraciones: 4661\n",
      "Total de iteraciones: 4709\n",
      "Total de iteraciones: 4759\n",
      "Total de iteraciones: 4641\n",
      "Total de iteraciones: 4339\n",
      "Total de iteraciones: 4719\n",
      "Total de iteraciones: 5010\n",
      "Total de iteraciones: 4562\n",
      "Total de iteraciones: 4436\n",
      "Total de iteraciones: 4457\n",
      "Total de iteraciones: 4684\n",
      "Total de iteraciones: 4633\n",
      "Total de iteraciones: 4614\n",
      "Total de iteraciones: 4692\n",
      "Total de iteraciones: 4603\n",
      "Total de iteraciones: 4691\n",
      "Total de iteraciones: 4761\n",
      "Total de iteraciones: 4476\n",
      "Total de iteraciones: 4873\n",
      "Total de iteraciones: 4553\n",
      "Total de iteraciones: 4389\n",
      "Total de iteraciones: 4843\n",
      "Total de iteraciones: 4862\n",
      "Total de iteraciones: 4473\n",
      "Total de iteraciones: 4482\n",
      "Total de iteraciones: 4607\n",
      "Total de iteraciones: 4724\n",
      "Total de iteraciones: 4723\n",
      "Total de iteraciones: 4739\n",
      "Total de iteraciones: 4728\n",
      "Total de iteraciones: 4797\n",
      "Total de iteraciones: 5312\n",
      "Total de iteraciones: 4816\n",
      "Total de iteraciones: 4859\n",
      "Total de iteraciones: 4723\n",
      "Total de iteraciones: 4531\n",
      "Total de iteraciones: 4608\n",
      "Total de iteraciones: 4557\n",
      "Total de iteraciones: 4916\n",
      "Total de iteraciones: 4441\n",
      "Total de iteraciones: 4749\n",
      "Total de iteraciones: 4881\n",
      "Total de iteraciones: 4759\n",
      "Total de iteraciones: 4934\n",
      "Total de iteraciones: 4747\n",
      "Total de iteraciones: 4424\n",
      "Total de iteraciones: 4699\n",
      "Total de iteraciones: 4796\n",
      "Total de iteraciones: 4588\n",
      "Total de iteraciones: 4753\n",
      "Total de iteraciones: 5103\n",
      "Total de iteraciones: 4589\n",
      "Total de iteraciones: 4767\n",
      "Total de iteraciones: 5119\n",
      "Total de iteraciones: 4865\n",
      "Total de iteraciones: 4520\n",
      "Total de iteraciones: 4551\n",
      "Total de iteraciones: 4760\n",
      "Total de iteraciones: 4545\n",
      "Total de iteraciones: 4508\n",
      "Total de iteraciones: 4754\n",
      "Total de iteraciones: 4711\n",
      "Total de iteraciones: 4830\n",
      "Total de iteraciones: 4957\n",
      "Total de iteraciones: 4904\n",
      "Total de iteraciones: 4663\n",
      "Total de iteraciones: 4676\n",
      "Total de iteraciones: 4834\n",
      "Total de iteraciones: 4944\n",
      "Total de iteraciones: 4741\n",
      "Total de iteraciones: 4763\n",
      "Total de iteraciones: 4864\n",
      "Total de iteraciones: 4925\n",
      "Total de iteraciones: 4775\n",
      "Total de iteraciones: 4794\n",
      "Total de iteraciones: 4821\n",
      "Total de iteraciones: 4642\n",
      "Total de iteraciones: 4844\n",
      "Total de iteraciones: 4817\n",
      "Total de iteraciones: 5025\n",
      "Total de iteraciones: 4638\n",
      "Total de iteraciones: 4663\n",
      "Total de iteraciones: 4879\n",
      "Total de iteraciones: 4812\n",
      "Total de iteraciones: 4866\n",
      "Total de iteraciones: 4758\n",
      "Total de iteraciones: 4646\n",
      "Total de iteraciones: 4879\n",
      "Total de iteraciones: 4709\n",
      "Total de iteraciones: 4832\n",
      "Total de iteraciones: 4783\n",
      "Total de iteraciones: 4764\n",
      "Total de iteraciones: 4821\n",
      "Total de iteraciones: 4737\n",
      "Total de iteraciones: 4847\n",
      "Total de iteraciones: 4808\n",
      "Total de iteraciones: 5156\n",
      "Total de iteraciones: 4945\n",
      "Total de iteraciones: 4299\n",
      "Total de iteraciones: 4727\n",
      "Total de iteraciones: 4642\n",
      "Total de iteraciones: 4724\n",
      "Total de iteraciones: 4678\n",
      "Total de iteraciones: 4825\n",
      "Total de iteraciones: 4528\n",
      "Total de iteraciones: 4859\n",
      "Total de iteraciones: 4906\n",
      "Total de iteraciones: 4576\n",
      "Total de iteraciones: 4917\n",
      "Total de iteraciones: 4685\n",
      "Total de iteraciones: 4850\n",
      "Total de iteraciones: 4626\n",
      "Total de iteraciones: 4639\n",
      "Total de iteraciones: 4842\n",
      "Total de iteraciones: 4978\n",
      "Total de iteraciones: 4901\n",
      "Total de iteraciones: 4524\n",
      "Total de iteraciones: 4843\n",
      "Total de iteraciones: 5211\n",
      "Total de iteraciones: 4799\n",
      "Total de iteraciones: 5063\n",
      "Total de iteraciones: 4858\n",
      "Total de iteraciones: 4523\n",
      "Total de iteraciones: 4701\n",
      "Total de iteraciones: 4367\n",
      "Total de iteraciones: 4932\n",
      "Total de iteraciones: 4724\n",
      "Total de iteraciones: 4897\n",
      "Total de iteraciones: 4677\n",
      "Total de iteraciones: 4524\n",
      "Total de iteraciones: 4963\n",
      "Total de iteraciones: 4578\n",
      "Total de iteraciones: 4599\n",
      "Total de iteraciones: 4674\n",
      "Total de iteraciones: 4733\n",
      "Total de iteraciones: 4428\n",
      "Total de iteraciones: 4485\n",
      "Total de iteraciones: 4713\n",
      "Total de iteraciones: 4667\n",
      "Total de iteraciones: 4915\n",
      "Total de iteraciones: 5059\n",
      "Total de iteraciones: 4700\n",
      "Total de iteraciones: 4582\n",
      "Total de iteraciones: 4694\n",
      "Total de iteraciones: 4804\n",
      "Total de iteraciones: 4521\n",
      "Total de iteraciones: 4547\n",
      "Total de iteraciones: 4749\n",
      "Total de iteraciones: 4557\n",
      "Total de iteraciones: 4581\n",
      "Total de iteraciones: 4736\n",
      "Total de iteraciones: 4636\n",
      "Total de iteraciones: 5021\n",
      "Total de iteraciones: 4690\n",
      "Total de iteraciones: 4846\n",
      "Total de iteraciones: 4893\n",
      "Total de iteraciones: 4901\n",
      "Total de iteraciones: 4567\n",
      "Total de iteraciones: 4506\n",
      "Total de iteraciones: 4841\n",
      "Total de iteraciones: 4707\n",
      "Total de iteraciones: 5117\n",
      "Total de iteraciones: 4705\n",
      "Total de iteraciones: 4811\n",
      "Total de iteraciones: 4932\n",
      "Total de iteraciones: 4700\n",
      "Total de iteraciones: 4588\n",
      "Total de iteraciones: 4775\n",
      "Total de iteraciones: 4459\n",
      "Total de iteraciones: 4827\n",
      "Total de iteraciones: 4802\n",
      "Total de iteraciones: 4861\n",
      "Total de iteraciones: 4830\n",
      "Total de iteraciones: 4629\n",
      "Total de iteraciones: 4723\n",
      "Total de iteraciones: 4500\n",
      "Total de iteraciones: 4758\n",
      "Total de iteraciones: 4939\n",
      "Total de iteraciones: 4486\n",
      "Total de iteraciones: 4702\n",
      "Total de iteraciones: 4967\n",
      "Total de iteraciones: 4679\n",
      "Total de iteraciones: 5058\n",
      "Total de iteraciones: 4894\n",
      "Total de iteraciones: 5238\n",
      "Total de iteraciones: 4894\n",
      "Total de iteraciones: 4970\n",
      "Total de iteraciones: 4624\n",
      "Total de iteraciones: 4799\n",
      "Total de iteraciones: 4949\n",
      "Total de iteraciones: 4762\n",
      "Total de iteraciones: 4885\n",
      "Total de iteraciones: 4629\n",
      "Total de iteraciones: 4658\n",
      "Total de iteraciones: 4869\n",
      "Total de iteraciones: 4684\n",
      "Total de iteraciones: 4849\n",
      "Total de iteraciones: 4786\n",
      "Total de iteraciones: 4574\n",
      "Total de iteraciones: 4719\n",
      "Total de iteraciones: 4582\n",
      "Total de iteraciones: 4697\n",
      "Total de iteraciones: 4669\n",
      "Total de iteraciones: 4956\n",
      "Total de iteraciones: 4654\n",
      "Total de iteraciones: 4878\n",
      "Total de iteraciones: 4783\n",
      "Total de iteraciones: 4984\n",
      "Total de iteraciones: 4837\n",
      "Total de iteraciones: 4684\n",
      "Total de iteraciones: 4863\n",
      "Total de iteraciones: 4901\n",
      "Total de iteraciones: 4938\n",
      "Total de iteraciones: 5093\n",
      "Total de iteraciones: 4545\n",
      "Total de iteraciones: 4752\n",
      "Total de iteraciones: 4800\n",
      "Total de iteraciones: 4889\n",
      "Total de iteraciones: 4940\n",
      "Total de iteraciones: 4677\n",
      "Total de iteraciones: 4582\n",
      "Total de iteraciones: 4817\n",
      "Total de iteraciones: 4777\n",
      "Total de iteraciones: 4655\n",
      "Total de iteraciones: 4820\n",
      "Total de iteraciones: 4847\n",
      "Total de iteraciones: 4789\n",
      "Total de iteraciones: 4886\n",
      "Total de iteraciones: 4850\n",
      "Total de iteraciones: 4831\n",
      "Total de iteraciones: 4532\n",
      "Total de iteraciones: 4810\n",
      "Total de iteraciones: 4730\n",
      "Total de iteraciones: 4936\n",
      "Total de iteraciones: 4708\n",
      "Total de iteraciones: 4725\n",
      "Total de iteraciones: 4804\n",
      "Total de iteraciones: 4774\n",
      "Total de iteraciones: 4757\n",
      "Total de iteraciones: 4779\n",
      "Total de iteraciones: 4726\n",
      "Total de iteraciones: 4764\n",
      "Total de iteraciones: 4609\n",
      "Total de iteraciones: 4662\n",
      "Total de iteraciones: 4645\n",
      "Total de iteraciones: 4832\n",
      "Total de iteraciones: 5120\n",
      "Total de iteraciones: 4566\n",
      "Total de iteraciones: 4950\n",
      "Total de iteraciones: 4753\n",
      "Total de iteraciones: 4647\n",
      "Total de iteraciones: 4620\n",
      "Total de iteraciones: 4715\n",
      "Total de iteraciones: 4765\n",
      "Total de iteraciones: 4427\n",
      "Total de iteraciones: 4707\n",
      "Total de iteraciones: 4670\n",
      "Total de iteraciones: 4732\n",
      "Total de iteraciones: 4871\n",
      "Total de iteraciones: 4643\n",
      "Total de iteraciones: 4799\n",
      "Total de iteraciones: 4625\n",
      "Total de iteraciones: 4833\n",
      "Total de iteraciones: 4627\n",
      "Total de iteraciones: 4932\n",
      "Total de iteraciones: 4988\n",
      "Total de iteraciones: 4769\n",
      "Total de iteraciones: 4581\n",
      "Total de iteraciones: 4900\n",
      "Total de iteraciones: 4851\n",
      "Total de iteraciones: 4470\n",
      "Total de iteraciones: 4774\n",
      "Total de iteraciones: 4624\n",
      "Total de iteraciones: 4422\n",
      "Total de iteraciones: 4740\n",
      "Total de iteraciones: 4660\n",
      "Total de iteraciones: 4780\n",
      "Total de iteraciones: 4874\n",
      "Total de iteraciones: 4675\n",
      "Total de iteraciones: 4649\n",
      "Total de iteraciones: 4653\n",
      "Total de iteraciones: 4899\n",
      "Total de iteraciones: 4709\n",
      "Total de iteraciones: 4668\n",
      "Total de iteraciones: 4831\n",
      "Total de iteraciones: 5055\n",
      "Total de iteraciones: 4776\n",
      "Total de iteraciones: 4452\n",
      "Total de iteraciones: 4793\n",
      "Total de iteraciones: 4693\n",
      "Total de iteraciones: 4845\n",
      "Total de iteraciones: 4644\n",
      "Total de iteraciones: 4947\n",
      "Total de iteraciones: 4734\n"
     ]
    }
   ],
   "source": [
    "N = 1000  # Número de simulaciones\n",
    "curves = []\n",
    "times = []\n",
    "\n",
    "for _ in range(N):\n",
    "    KMC = KineticMonteCarlo(lattice_size=lattice_size, e_ads=e_ads, e_int_abs=e_int_abs, time_factor=1e-7, time_array=time_array)\n",
    "    KMC.run_simulation()\n",
    "    curves.append(KMC.occupancy.values())\n",
    "    times.append(KMC.time_array)"
   ]
  },
  {
   "cell_type": "code",
   "execution_count": 292,
   "metadata": {},
   "outputs": [
    {
     "name": "stdout",
     "output_type": "stream",
     "text": [
      "Mean values:  [ 0.         24.03626021 29.77085403 34.14140362 37.0068739  39.20001602\n",
      " 43.31254607 49.41815414 53.27010095]\n",
      "Standard deviation values:  [0.         3.36106009 2.8907264  2.46307178 2.2365431  2.10873222\n",
      " 1.79057262 1.40847288 1.25006602]\n"
     ]
    },
    {
     "data": {
      "text/plain": [
       "<matplotlib.legend.Legend at 0x16b9c7eb0>"
      ]
     },
     "execution_count": 292,
     "metadata": {},
     "output_type": "execute_result"
    },
    {
     "data": {
      "image/png": "[encoded data removed]",
      "text/plain": [
       "<Figure size 640x480 with 1 Axes>"
      ]
     },
     "metadata": {},
     "output_type": "display_data"
    }
   ],
   "source": [
    "df = pd.DataFrame(curves)\n",
    "mean_values = df.mean().to_numpy()\n",
    "std_values = df.std().to_numpy()\n",
    "\n",
    "print(\"Mean values: \", mean_values)\n",
    "print(\"Standard deviation values: \", std_values)\n",
    "\n",
    "plt.errorbar(time_array, mean_values, yerr=std_values, capsize=5, color='red', fmt='o', label='Mean values')\n",
    "plt.plot(time_array,exp_data,marker='o', label='Experimental data')\n",
    "plt.xlabel(\"Time\")\n",
    "plt.ylabel(\"Percentage of occupied sites\")\n",
    "plt.title(\"Adsorption over time\")\n",
    "plt.legend()\n"
   ]
  },
  {
   "cell_type": "markdown",
   "metadata": {},
   "source": [
    "### Reducción de variabilidad en los resultados kMC\n",
    "\n",
    "https://chatgpt.com/share/67c653e7-efa4-800c-8818-6a60bf2d7bfa"
   ]
  }
 ],
 "metadata": {
  "kernelspec": {
   "display_name": ".venv",
   "language": "python",
   "name": "python3"
  },
  "language_info": {
   "codemirror_mode": {
    "name": "ipython",
    "version": 3
   },
   "file_extension": ".py",
   "mimetype": "text/x-python",
   "name": "python",
   "nbconvert_exporter": "python",
   "pygments_lexer": "ipython3",
   "version": "3.9.6"
  }
 },
 "nbformat": 4,
 "nbformat_minor": 2
}
